{
  "nbformat": 4,
  "nbformat_minor": 0,
  "metadata": {
    "colab": {
      "name": "Wifi_task.ipynb",
      "version": "0.3.2",
      "provenance": [],
      "collapsed_sections": [],
      "include_colab_link": true
    },
    "kernelspec": {
      "name": "python3",
      "display_name": "Python 3"
    }
  },
  "cells": [
    {
      "cell_type": "markdown",
      "metadata": {
        "id": "view-in-github",
        "colab_type": "text"
      },
      "source": [
        "<a href=\"https://colab.research.google.com/github/bghata/Energy-Consumption-Analysis-R-/blob/master/Wifi_task.ipynb\" target=\"_parent\"><img src=\"https://colab.research.google.com/assets/colab-badge.svg\" alt=\"Open In Colab\"/></a>"
      ]
    },
    {
      "cell_type": "code",
      "metadata": {
        "id": "yD2TCc154QzT",
        "colab_type": "code",
        "colab": {}
      },
      "source": [
        "%reload_ext rpy2.ipython\n",
        "\n",
        "import warnings\n",
        "warnings.filterwarnings('ignore')"
      ],
      "execution_count": 0,
      "outputs": []
    },
    {
      "cell_type": "code",
      "metadata": {
        "id": "A62Q8DxB4YpH",
        "colab_type": "code",
        "colab": {}
      },
      "source": [
        "%%R\n",
        "install.packages(\"readr\")"
      ],
      "execution_count": 0,
      "outputs": []
    },
    {
      "cell_type": "code",
      "metadata": {
        "id": "TpkYn-174vPJ",
        "colab_type": "code",
        "colab": {}
      },
      "source": [
        "%%R\n",
        "library(readr)"
      ],
      "execution_count": 0,
      "outputs": []
    },
    {
      "cell_type": "markdown",
      "metadata": {
        "id": "eWvEe7HnxtET",
        "colab_type": "text"
      },
      "source": [
        "**Loading the libraries**"
      ]
    },
    {
      "cell_type": "code",
      "metadata": {
        "id": "-E8jknae494R",
        "colab_type": "code",
        "colab": {}
      },
      "source": [
        "%%R\n",
        "pacman::p_load(DBI, data.table, ggplot2, dplyr, \n",
        "               lattice, caret, plotly, lubridate,\n",
        "               zoo, forecast, ggfortify, stats, tufte, \n",
        "               ggthemes, rapportools, fpp2, fma, expsmooth,\n",
        "               gbm, scatterplot3d, reshape2, Hmisc, rio, \n",
        "               colorspace,grid, VIM, class, sp, spData, spdep, \n",
        "               randomForest, magrittr, Matrix, learningr)"
      ],
      "execution_count": 0,
      "outputs": []
    },
    {
      "cell_type": "code",
      "metadata": {
        "id": "HvW37Ewk5Gw_",
        "colab_type": "code",
        "colab": {}
      },
      "source": [
        "from google.colab import drive\n",
        "drive.mount('/content/gdrive')"
      ],
      "execution_count": 0,
      "outputs": []
    },
    {
      "cell_type": "markdown",
      "metadata": {
        "id": "BaWVJW7Jp6oR",
        "colab_type": "text"
      },
      "source": [
        "**Loading the data set**"
      ]
    },
    {
      "cell_type": "code",
      "metadata": {
        "id": "FkGmAGZ3DL6N",
        "colab_type": "code",
        "colab": {}
      },
      "source": [
        "%%R\n",
        "dataTraining = read_csv('/content/gdrive/My Drive/Colab Notebooks/Wifi_Data_Files/trainingData.csv')\n",
        "dataValidation = read_csv('/content/gdrive/My Drive/Colab Notebooks/Wifi_Data_Files/validationData.csv')"
      ],
      "execution_count": 0,
      "outputs": []
    },
    {
      "cell_type": "markdown",
      "metadata": {
        "id": "Wf1DCK0OzUFp",
        "colab_type": "text"
      },
      "source": [
        "**Replace na with -110 on dataTraining & dataValidation**"
      ]
    },
    {
      "cell_type": "code",
      "metadata": {
        "id": "FcjcfSh_zZ-k",
        "colab_type": "code",
        "colab": {}
      },
      "source": [
        "%%R\n",
        "dataTraining[is.na(dataTraining)] = -110\n",
        "dataValidation[is.na(dataValidation)] = -110"
      ],
      "execution_count": 0,
      "outputs": []
    },
    {
      "cell_type": "markdown",
      "metadata": {
        "id": "D0atzv1DzhJp",
        "colab_type": "text"
      },
      "source": [
        "**Detecting outliers**"
      ]
    },
    {
      "cell_type": "code",
      "metadata": {
        "id": "TcliFcUJzi2O",
        "colab_type": "code",
        "colab": {
          "base_uri": "https://localhost:8080/",
          "height": 497
        },
        "outputId": "ee212dd7-2e1f-471c-acbf-b74476c774ca"
      },
      "source": [
        "%%R\n",
        "plot( x = as.factor(rep(colnames(dataTraining)[1:520],nrow(dataTraining))), y = c(t(dataTraining[,1:520])))"
      ],
      "execution_count": 58,
      "outputs": [
        {
          "output_type": "display_data",
          "data": {
            "image/png": "[encoded data removed]"
          },
          "metadata": {
            "tags": []
          }
        }
      ]
    },
    {
      "cell_type": "markdown",
      "metadata": {
        "id": "L7X1iw4sz1cz",
        "colab_type": "text"
      },
      "source": [
        "**Replacing outliers between (0 and -40) with -50**"
      ]
    },
    {
      "cell_type": "code",
      "metadata": {
        "id": "V2H1Y6vNz22Z",
        "colab_type": "code",
        "colab": {}
      },
      "source": [
        "%%R\n",
        "for (i in c(1:nrow(dataTraining))) {\n",
        "  sapply(dataTraining[i, 1:520], function(x) {if (max(x) > -40)   replace(x, x > -40, -50)})\n",
        "}"
      ],
      "execution_count": 0,
      "outputs": []
    },
    {
      "cell_type": "markdown",
      "metadata": {
        "id": "wyi159HG0gM3",
        "colab_type": "text"
      },
      "source": [
        "**Converting data type from dataTraining & dataValidation**"
      ]
    },
    {
      "cell_type": "code",
      "metadata": {
        "id": "CczMJXRE0130",
        "colab_type": "code",
        "colab": {}
      },
      "source": [
        "%%R\n",
        "dataTraining$LONGITUDE <- as.numeric(dataTraining$LONGITUDE)\n",
        "dataTraining$LATITUDE <- as.numeric(dataTraining$LATITUDE)\n",
        "dataTraining$FLOOR <- as.factor(dataTraining$FLOOR)\n",
        "dataTraining$BUILDINGID <- as.factor(dataTraining$BUILDINGID)\n",
        "\n",
        "dataValidation$LONGITUDE <- as.numeric(dataValidation$LONGITUDE)\n",
        "dataValidation$LATITUDE <- as.numeric(dataValidation$LATITUDE)\n",
        "dataValidation$FLOOR <- as.factor(dataValidation$FLOOR)\n",
        "dataValidation$BUILDINGID <- as.factor(dataValidation$BUILDINGID)"
      ],
      "execution_count": 0,
      "outputs": []
    },
    {
      "cell_type": "markdown",
      "metadata": {
        "id": "poJvO-ig1Edf",
        "colab_type": "text"
      },
      "source": [
        "**Removing WAPs where na = 100 / from dataTraining**"
      ]
    },
    {
      "cell_type": "code",
      "metadata": {
        "id": "rL4sKSgK1FUK",
        "colab_type": "code",
        "colab": {}
      },
      "source": [
        "%%R\n",
        "dataTraining <- dataTraining[,colSums(is.na(dataTraining))<nrow(dataTraining)]\n",
        "dataTraining <- dataTraining[rowSums(is.na(dataTraining[ , -c(466:474)]))< (ncol(dataTraining) -9) , ]"
      ],
      "execution_count": 0,
      "outputs": []
    },
    {
      "cell_type": "markdown",
      "metadata": {
        "id": "N62biO2h1NHa",
        "colab_type": "text"
      },
      "source": [
        "**Adding 4 variables (BUILDINGID, FLOOR, LONGITUDE, LATITUDE) to 4 seperate datasets for easier analysis**"
      ]
    },
    {
      "cell_type": "markdown",
      "metadata": {
        "id": "O3XQxXLH1lGw",
        "colab_type": "text"
      },
      "source": [
        "**Removing non-related attributes, and creating training data with WAPs and BUILDINGID**"
      ]
    },
    {
      "cell_type": "code",
      "metadata": {
        "id": "uvnlrjbS1nhx",
        "colab_type": "code",
        "colab": {}
      },
      "source": [
        "%%R\n",
        "trainData_building = dataTraining\n",
        "trainData_building$FLOOR = NULL\n",
        "trainData_building$LONGITUDE = NULL\n",
        "trainData_building$LATITUDE = NULL\n",
        "trainData_building$PHONEID = NULL\n",
        "trainData_building$USERID = NULL\n",
        "trainData_building$RELATIVEPOSITION = NULL\n",
        "trainData_building$SPACEID = NULL\n",
        "trainData_building$TIMESTAMP = NULL\n",
        "\n",
        "validData_building = dataValidation\n",
        "validData_building$FLOOR = NULL\n",
        "validData_building$LONGITUDE = NULL\n",
        "validData_building$LATITUDE = NULL\n",
        "validData_building$PHONEID = NULL\n",
        "validData_building$USERID = NULL\n",
        "validData_building$RELATIVEPOSITION = NULL\n",
        "validData_building$SPACEID = NULL\n",
        "validData_building$TIMESTAMP = NULL\n",
        "\n",
        "new_valid_building <- validData_building[,match(colnames(trainData_building), colnames(validData_building))]"
      ],
      "execution_count": 0,
      "outputs": []
    },
    {
      "cell_type": "markdown",
      "metadata": {
        "id": "T6UQ_dH11v_O",
        "colab_type": "text"
      },
      "source": [
        "**Removing non-related attributes, and creating training data with WAPs and FLOOR**"
      ]
    },
    {
      "cell_type": "code",
      "metadata": {
        "id": "H0ISrrQt1zGR",
        "colab_type": "code",
        "colab": {}
      },
      "source": [
        "%%R\n",
        "trainData_floor = dataTraining\n",
        "trainData_floor$BUILDINGID = NULL\n",
        "trainData_floor$LONGITUDE = NULL\n",
        "trainData_floor$LATITUDE = NULL\n",
        "trainData_floor$PHONEID = NULL\n",
        "trainData_floor$USERID = NULL\n",
        "trainData_floor$RELATIVEPOSITION = NULL\n",
        "trainData_floor$SPACEID = NULL\n",
        "trainData_floor$TIMESTAMP = NULL\n",
        "\n",
        "validData_floor = dataValidation\n",
        "validData_floor$BUILDINGID = NULL\n",
        "validData_floor$LONGITUDE = NULL\n",
        "validData_floor$LATITUDE = NULL\n",
        "validData_floor$PHONEID = NULL\n",
        "validData_floor$USERID = NULL\n",
        "validData_floor$RELATIVEPOSITION = NULL\n",
        "validData_floor$SPACEID = NULL\n",
        "validData_floor$TIMESTAMP = NULL\n",
        "\n",
        "new_valid_floor <- validData_floor[,match(colnames(trainData_floor), colnames(validData_floor))]"
      ],
      "execution_count": 0,
      "outputs": []
    },
    {
      "cell_type": "markdown",
      "metadata": {
        "id": "v0Ppoaa415nn",
        "colab_type": "text"
      },
      "source": [
        "**Removing non-related attributes, and creating training data with WAPs and LONGITUDE**"
      ]
    },
    {
      "cell_type": "code",
      "metadata": {
        "id": "GfGQvChe16v0",
        "colab_type": "code",
        "colab": {}
      },
      "source": [
        "%%R\n",
        "trainData_longitude = dataTraining\n",
        "trainData_longitude$BUILDINGID = NULL\n",
        "trainData_longitude$FLOOR = NULL\n",
        "trainData_longitude$LATITUDE = NULL\n",
        "trainData_longitude$PHONEID = NULL\n",
        "trainData_longitude$USERID = NULL\n",
        "trainData_longitude$RELATIVEPOSITION = NULL\n",
        "trainData_longitude$SPACEID = NULL\n",
        "trainData_longitude$TIMESTAMP = NULL\n",
        "\n",
        "validData_longitude = dataValidation\n",
        "validData_longitude$BUILDINGID = NULL\n",
        "validData_longitude$FLOOR = NULL\n",
        "validData_longitude$LATITUDE = NULL\n",
        "validData_longitude$PHONEID = NULL\n",
        "validData_longitude$USERID = NULL\n",
        "validData_longitude$RELATIVEPOSITION = NULL\n",
        "validData_longitude$SPACEID = NULL\n",
        "validData_longitude$TIMESTAMP = NULL\n",
        "\n",
        "new_valid_longitude <- validData_longitude[,match(colnames(trainData_longitude), colnames(validData_longitude))]"
      ],
      "execution_count": 0,
      "outputs": []
    },
    {
      "cell_type": "markdown",
      "metadata": {
        "id": "RfcnCNRH2AI4",
        "colab_type": "text"
      },
      "source": [
        "**Removing non-related attributes, and creating training data with WAPs and LATITUDE**"
      ]
    },
    {
      "cell_type": "code",
      "metadata": {
        "id": "okoWdyux2Aug",
        "colab_type": "code",
        "colab": {}
      },
      "source": [
        "%%R\n",
        "trainData_latitude = dataTraining\n",
        "trainData_latitude$BUILDINGID = NULL\n",
        "trainData_latitude$FLOOR = NULL\n",
        "trainData_latitude$LONGITUDE = NULL\n",
        "trainData_latitude$PHONEID = NULL\n",
        "trainData_latitude$USERID = NULL\n",
        "trainData_latitude$RELATIVEPOSITION = NULL\n",
        "trainData_latitude$SPACEID = NULL\n",
        "trainData_latitude$TIMESTAMP = NULL\n",
        "\n",
        "validData_latitude = dataValidation\n",
        "validData_latitude$BUILDINGID = NULL\n",
        "validData_latitude$FLOOR = NULL\n",
        "validData_latitude$LONGITUDE = NULL\n",
        "validData_latitude$PHONEID = NULL\n",
        "validData_latitude$USERID = NULL\n",
        "validData_latitude$RELATIVEPOSITION = NULL\n",
        "validData_latitude$SPACEID = NULL\n",
        "validData_latitude$TIMESTAMP = NULL\n",
        "\n",
        "new_valid_latitude <- validData_latitude[,match(colnames(trainData_latitude), colnames(validData_latitude))]"
      ],
      "execution_count": 0,
      "outputs": []
    },
    {
      "cell_type": "markdown",
      "metadata": {
        "id": "gQos8zRs2JH1",
        "colab_type": "text"
      },
      "source": [
        "**Splitting data into trainSet & testSet for each round of running a new model**"
      ]
    },
    {
      "cell_type": "markdown",
      "metadata": {
        "id": "Z4_TsCtp2QPZ",
        "colab_type": "text"
      },
      "source": [
        "###K-NN Model on BUILDING"
      ]
    },
    {
      "cell_type": "code",
      "metadata": {
        "id": "kezLboYu2Q1u",
        "colab_type": "code",
        "colab": {}
      },
      "source": [
        "%%R\n",
        "set.seed(123)\n",
        "trainData1 <- createDataPartition(y = trainData_building$BUILDINGID, p = 0.75, list = FALSE)\n",
        "trainSet1 <- trainData_building[trainData1,]\n",
        "testSet1 <- trainData_building[-trainData1,]"
      ],
      "execution_count": 0,
      "outputs": []
    },
    {
      "cell_type": "markdown",
      "metadata": {
        "id": "_FdKOSMw2WvX",
        "colab_type": "text"
      },
      "source": [
        "**Fit Control / Cross Validation / K-NN model**"
      ]
    },
    {
      "cell_type": "code",
      "metadata": {
        "id": "c_F7wcGt2Xdy",
        "colab_type": "code",
        "colab": {
          "base_uri": "https://localhost:8080/",
          "height": 278
        },
        "outputId": "9f5a8dfa-9f5e-4b1d-8486-feb1357abb60"
      },
      "source": [
        "%%R\n",
        "fitControl <- trainControl(method = \"repeatedcv\", number = 5, repeats = 1)\n",
        "knn_fit_building <- train((BUILDINGID ~ .), \n",
        "                          data = trainSet1, \n",
        "                          method = \"knn\", \n",
        "                          trControl = fitControl, \n",
        "                          tuneGrid = expand.grid(k = 5))\n",
        "knn_fit_building"
      ],
      "execution_count": 67,
      "outputs": [
        {
          "output_type": "display_data",
          "data": {
            "text/plain": [
              "k-Nearest Neighbors \n",
              "\n",
              "14953 samples\n",
              "  520 predictor\n",
              "    3 classes: '0', '1', '2' \n",
              "\n",
              "No pre-processing\n",
              "Resampling: Cross-Validated (5 fold, repeated 1 times) \n",
              "Summary of sample sizes: 11962, 11962, 11963, 11962, 11963 \n",
              "Resampling results:\n",
              "\n",
              "  Accuracy   Kappa   \n",
              "  0.9967231  0.994848\n",
              "\n",
              "Tuning parameter 'k' was held constant at a value of 5\n"
            ]
          },
          "metadata": {
            "tags": []
          }
        }
      ]
    },
    {
      "cell_type": "markdown",
      "metadata": {
        "id": "bDTv1avM8s3F",
        "colab_type": "text"
      },
      "source": [
        "**Testing k-NN model on testSet1**"
      ]
    },
    {
      "cell_type": "code",
      "metadata": {
        "id": "7XfpLWsY8tfP",
        "colab_type": "code",
        "colab": {
          "base_uri": "https://localhost:8080/",
          "height": 538
        },
        "outputId": "528a3b51-c1c0-4974-e664-a5d7f2265862"
      },
      "source": [
        "%%R\n",
        "knn_Pred_building <- predict(knn_fit_building, newdata = testSet1)\n",
        "knn_CM_building_tes <- confusionMatrix(knn_Pred_building, testSet1$BUILDINGID)\n",
        "knn_CM_building_tes"
      ],
      "execution_count": 68,
      "outputs": [
        {
          "output_type": "display_data",
          "data": {
            "text/plain": [
              "Confusion Matrix and Statistics\n",
              "\n",
              "          Reference\n",
              "Prediction    0    1    2\n",
              "         0 1309    0    0\n",
              "         1    3 1294    8\n",
              "         2    0    5 2365\n",
              "\n",
              "Overall Statistics\n",
              "                                          \n",
              "               Accuracy : 0.9968          \n",
              "                 95% CI : (0.9948, 0.9982)\n",
              "    No Information Rate : 0.4761          \n",
              "    P-Value [Acc > NIR] : < 2.2e-16       \n",
              "                                          \n",
              "                  Kappa : 0.995           \n",
              "                                          \n",
              " Mcnemar's Test P-Value : NA              \n",
              "\n",
              "Statistics by Class:\n",
              "\n",
              "                     Class: 0 Class: 1 Class: 2\n",
              "Sensitivity            0.9977   0.9962   0.9966\n",
              "Specificity            1.0000   0.9970   0.9981\n",
              "Pos Pred Value         1.0000   0.9916   0.9979\n",
              "Neg Pred Value         0.9992   0.9986   0.9969\n",
              "Prevalence             0.2632   0.2606   0.4761\n",
              "Detection Rate         0.2626   0.2596   0.4745\n",
              "Detection Prevalence   0.2626   0.2618   0.4755\n",
              "Balanced Accuracy      0.9989   0.9966   0.9974\n"
            ]
          },
          "metadata": {
            "tags": []
          }
        }
      ]
    },
    {
      "cell_type": "markdown",
      "metadata": {
        "id": "-B92sg0o-Cn8",
        "colab_type": "text"
      },
      "source": [
        "**Testing k-NN model on dataValidation**"
      ]
    },
    {
      "cell_type": "code",
      "metadata": {
        "id": "PcTH47SM-DQt",
        "colab_type": "code",
        "colab": {
          "base_uri": "https://localhost:8080/",
          "height": 538
        },
        "outputId": "d197da03-154b-412a-c48f-97a80dec2f8f"
      },
      "source": [
        "%%R\n",
        "knn_Pred_building_val <- predict(knn_fit_building, newdata = validData_building)\n",
        "knn_CM_building_val <- confusionMatrix(knn_Pred_building_val, validData_building$BUILDINGID)\n",
        "knn_CM_building_val"
      ],
      "execution_count": 69,
      "outputs": [
        {
          "output_type": "display_data",
          "data": {
            "text/plain": [
              "Confusion Matrix and Statistics\n",
              "\n",
              "          Reference\n",
              "Prediction   0   1   2\n",
              "         0 533   0   0\n",
              "         1   1 307   5\n",
              "         2   2   0 263\n",
              "\n",
              "Overall Statistics\n",
              "                                          \n",
              "               Accuracy : 0.9928          \n",
              "                 95% CI : (0.9859, 0.9969)\n",
              "    No Information Rate : 0.4824          \n",
              "    P-Value [Acc > NIR] : < 2e-16         \n",
              "                                          \n",
              "                  Kappa : 0.9886          \n",
              "                                          \n",
              " Mcnemar's Test P-Value : 0.04601         \n",
              "\n",
              "Statistics by Class:\n",
              "\n",
              "                     Class: 0 Class: 1 Class: 2\n",
              "Sensitivity            0.9944   1.0000   0.9813\n",
              "Specificity            1.0000   0.9925   0.9976\n",
              "Pos Pred Value         1.0000   0.9808   0.9925\n",
              "Neg Pred Value         0.9948   1.0000   0.9941\n",
              "Prevalence             0.4824   0.2763   0.2412\n",
              "Detection Rate         0.4797   0.2763   0.2367\n",
              "Detection Prevalence   0.4797   0.2817   0.2385\n",
              "Balanced Accuracy      0.9972   0.9963   0.9895\n"
            ]
          },
          "metadata": {
            "tags": []
          }
        }
      ]
    },
    {
      "cell_type": "markdown",
      "metadata": {
        "id": "GBiqfgSq-bbJ",
        "colab_type": "text"
      },
      "source": [
        "###k-NN Model on FLOOR"
      ]
    },
    {
      "cell_type": "code",
      "metadata": {
        "id": "FJ3KPwhs-cDJ",
        "colab_type": "code",
        "colab": {}
      },
      "source": [
        "%%R\n",
        "set.seed(123)\n",
        "trainData2 <- createDataPartition(y = trainData_floor$FLOOR, p = 0.75, list = FALSE)\n",
        "trainSet2 <- trainData_floor [trainData2,]\n",
        "testSet2 <- trainData_floor [-trainData2,]"
      ],
      "execution_count": 0,
      "outputs": []
    },
    {
      "cell_type": "markdown",
      "metadata": {
        "id": "EYDZnbj5-iz1",
        "colab_type": "text"
      },
      "source": [
        "**Fit Control / Cross Validation / K-NN model**"
      ]
    },
    {
      "cell_type": "code",
      "metadata": {
        "id": "t-Gk0K9m-jje",
        "colab_type": "code",
        "colab": {
          "base_uri": "https://localhost:8080/",
          "height": 278
        },
        "outputId": "ce36d7ad-33e2-4bfa-b590-5abab26c753e"
      },
      "source": [
        "%%R\n",
        "fitControl <- trainControl(method = \"repeatedcv\", number = 5, repeats = 1)\n",
        "knn_fit_floor <- train((FLOOR ~ .), \n",
        "                       data = trainSet2, \n",
        "                       method = \"knn\", \n",
        "                       trControl = fitControl, \n",
        "                       tuneGrid = expand.grid(k = 5))\n",
        "knn_fit_floor"
      ],
      "execution_count": 71,
      "outputs": [
        {
          "output_type": "display_data",
          "data": {
            "text/plain": [
              "k-Nearest Neighbors \n",
              "\n",
              "14954 samples\n",
              "  520 predictor\n",
              "    5 classes: '0', '1', '2', '3', '4' \n",
              "\n",
              "No pre-processing\n",
              "Resampling: Cross-Validated (5 fold, repeated 1 times) \n",
              "Summary of sample sizes: 11962, 11965, 11963, 11962, 11964 \n",
              "Resampling results:\n",
              "\n",
              "  Accuracy  Kappa    \n",
              "  0.958607  0.9464401\n",
              "\n",
              "Tuning parameter 'k' was held constant at a value of 5\n"
            ]
          },
          "metadata": {
            "tags": []
          }
        }
      ]
    },
    {
      "cell_type": "markdown",
      "metadata": {
        "id": "66k3PDkiAqgK",
        "colab_type": "text"
      },
      "source": [
        "**Testing k-NN model on testSet2**"
      ]
    },
    {
      "cell_type": "code",
      "metadata": {
        "id": "TtbsCTZkArE6",
        "colab_type": "code",
        "colab": {
          "base_uri": "https://localhost:8080/",
          "height": 573
        },
        "outputId": "2825d851-b91e-4c5c-f3d5-09c79f143371"
      },
      "source": [
        "%%R\n",
        "knn_Pred_floor <- predict(knn_fit_floor, newdata = testSet2)\n",
        "knn_CM_floor_val <- confusionMatrix(knn_Pred_floor, testSet2$FLOOR)\n",
        "knn_CM_floor_val"
      ],
      "execution_count": 72,
      "outputs": [
        {
          "output_type": "display_data",
          "data": {
            "text/plain": [
              "Confusion Matrix and Statistics\n",
              "\n",
              "          Reference\n",
              "Prediction    0    1    2    3    4\n",
              "         0 1075   67    2    2    0\n",
              "         1    6 1169   20    1    0\n",
              "         2    1   12 1026   13    0\n",
              "         3   10    2   56 1246    0\n",
              "         4    0    0    0    0  275\n",
              "\n",
              "Overall Statistics\n",
              "                                          \n",
              "               Accuracy : 0.9615          \n",
              "                 95% CI : (0.9557, 0.9666)\n",
              "    No Information Rate : 0.2533          \n",
              "    P-Value [Acc > NIR] : < 2.2e-16       \n",
              "                                          \n",
              "                  Kappa : 0.9501          \n",
              "                                          \n",
              " Mcnemar's Test P-Value : NA              \n",
              "\n",
              "Statistics by Class:\n",
              "\n",
              "                     Class: 0 Class: 1 Class: 2 Class: 3 Class: 4\n",
              "Sensitivity            0.9844   0.9352   0.9293   0.9873  1.00000\n",
              "Specificity            0.9818   0.9928   0.9933   0.9817  1.00000\n",
              "Pos Pred Value         0.9380   0.9774   0.9753   0.9482  1.00000\n",
              "Neg Pred Value         0.9956   0.9786   0.9802   0.9956  1.00000\n",
              "Prevalence             0.2191   0.2509   0.2216   0.2533  0.05519\n",
              "Detection Rate         0.2157   0.2346   0.2059   0.2501  0.05519\n",
              "Detection Prevalence   0.2300   0.2400   0.2111   0.2637  0.05519\n",
              "Balanced Accuracy      0.9831   0.9640   0.9613   0.9845  1.00000\n"
            ]
          },
          "metadata": {
            "tags": []
          }
        }
      ]
    },
    {
      "cell_type": "markdown",
      "metadata": {
        "id": "xdiP7rWZCIs2",
        "colab_type": "text"
      },
      "source": [
        "**Testing k-NN model on validData_floor**"
      ]
    },
    {
      "cell_type": "code",
      "metadata": {
        "id": "Mzzf4Ju5CKBO",
        "colab_type": "code",
        "colab": {
          "base_uri": "https://localhost:8080/",
          "height": 573
        },
        "outputId": "364092a6-5c0d-4c31-e7d8-5ff8e10ad802"
      },
      "source": [
        "%%R\n",
        "knn_Pred_floor_val <- predict(knn_fit_floor, newdata = validData_floor)\n",
        "knn_CM_floor_val <- confusionMatrix(knn_Pred_floor_val, validData_floor$FLOOR)\n",
        "knn_CM_floor_val"
      ],
      "execution_count": 73,
      "outputs": [
        {
          "output_type": "display_data",
          "data": {
            "text/plain": [
              "Confusion Matrix and Statistics\n",
              "\n",
              "          Reference\n",
              "Prediction   0   1   2   3   4\n",
              "         0 116  68   8   4   2\n",
              "         1   8 324  13   0   0\n",
              "         2   6  59 202   7   0\n",
              "         3   2  11  83 159  15\n",
              "         4   0   0   0   2  22\n",
              "\n",
              "Overall Statistics\n",
              "                                          \n",
              "               Accuracy : 0.7408          \n",
              "                 95% CI : (0.7139, 0.7663)\n",
              "    No Information Rate : 0.4158          \n",
              "    P-Value [Acc > NIR] : < 2.2e-16       \n",
              "                                          \n",
              "                  Kappa : 0.6513          \n",
              "                                          \n",
              " Mcnemar's Test P-Value : NA              \n",
              "\n",
              "Statistics by Class:\n",
              "\n",
              "                     Class: 0 Class: 1 Class: 2 Class: 3 Class: 4\n",
              "Sensitivity            0.8788   0.7013   0.6601   0.9244   0.5641\n",
              "Specificity            0.9162   0.9676   0.9106   0.8818   0.9981\n",
              "Pos Pred Value         0.5859   0.9391   0.7372   0.5889   0.9167\n",
              "Neg Pred Value         0.9825   0.8198   0.8757   0.9845   0.9844\n",
              "Prevalence             0.1188   0.4158   0.2754   0.1548   0.0351\n",
              "Detection Rate         0.1044   0.2916   0.1818   0.1431   0.0198\n",
              "Detection Prevalence   0.1782   0.3105   0.2466   0.2430   0.0216\n",
              "Balanced Accuracy      0.8975   0.8345   0.7853   0.9031   0.7811\n"
            ]
          },
          "metadata": {
            "tags": []
          }
        }
      ]
    },
    {
      "cell_type": "markdown",
      "metadata": {
        "id": "Drhiu93uE1eS",
        "colab_type": "text"
      },
      "source": [
        "###k-NN Model on Longitude"
      ]
    },
    {
      "cell_type": "code",
      "metadata": {
        "id": "fM0q66JqE2RZ",
        "colab_type": "code",
        "colab": {}
      },
      "source": [
        "%%R\n",
        "set.seed(123)\n",
        "trainData3 <- createDataPartition(y = trainData_longitude$LONGITUDE, p = 0.75, list = FALSE)\n",
        "trainSet3 <- trainData_longitude [trainData3,]\n",
        "testSet3 <- trainData_longitude [-trainData3,]"
      ],
      "execution_count": 0,
      "outputs": []
    },
    {
      "cell_type": "markdown",
      "metadata": {
        "id": "0_SiBORzE7fD",
        "colab_type": "text"
      },
      "source": [
        "**Fit Control / Cross Validation / K-NN model**"
      ]
    },
    {
      "cell_type": "code",
      "metadata": {
        "id": "jEYQWdjNE8FY",
        "colab_type": "code",
        "colab": {
          "base_uri": "https://localhost:8080/",
          "height": 260
        },
        "outputId": "0ce5dc02-44b4-40c7-dd22-e58dbb0d35ce"
      },
      "source": [
        "%%R\n",
        "fitControl <- trainControl(method = \"repeatedcv\", number = 5, repeats = 1)\n",
        "knn_fit_longitude <- train((LONGITUDE ~ .), \n",
        "                           data = trainSet3, \n",
        "                           method = \"knn\", \n",
        "                           trControl = fitControl, \n",
        "                           tuneGrid = expand.grid(k = 5))\n",
        "knn_fit_longitude"
      ],
      "execution_count": 75,
      "outputs": [
        {
          "output_type": "display_data",
          "data": {
            "text/plain": [
              "k-Nearest Neighbors \n",
              "\n",
              "14955 samples\n",
              "  520 predictor\n",
              "\n",
              "No pre-processing\n",
              "Resampling: Cross-Validated (5 fold, repeated 1 times) \n",
              "Summary of sample sizes: 11963, 11965, 11964, 11963, 11965 \n",
              "Resampling results:\n",
              "\n",
              "  RMSE     Rsquared   MAE     \n",
              "  10.9136  0.9920967  4.458733\n",
              "\n",
              "Tuning parameter 'k' was held constant at a value of 5\n"
            ]
          },
          "metadata": {
            "tags": []
          }
        }
      ]
    },
    {
      "cell_type": "markdown",
      "metadata": {
        "id": "EK2byWS0HLUx",
        "colab_type": "text"
      },
      "source": [
        "**Testing k-NN model on testSet3**"
      ]
    },
    {
      "cell_type": "code",
      "metadata": {
        "id": "GUkHBt3OHMSW",
        "colab_type": "code",
        "colab": {
          "base_uri": "https://localhost:8080/",
          "height": 52
        },
        "outputId": "653a4a1d-1091-4e33-ba3a-104e9e6dc8ea"
      },
      "source": [
        "%%R\n",
        "knn_Pred_longitude <- predict(knn_fit_longitude, newdata = testSet3)\n",
        "postResample(knn_Pred_longitude, testSet3$LONGITUDE)"
      ],
      "execution_count": 76,
      "outputs": [
        {
          "output_type": "display_data",
          "data": {
            "text/plain": [
              "     RMSE  Rsquared       MAE \n",
              "9.0799665 0.9945795 3.8540288 \n"
            ]
          },
          "metadata": {
            "tags": []
          }
        }
      ]
    },
    {
      "cell_type": "markdown",
      "metadata": {
        "id": "I-6A0GdQIP0a",
        "colab_type": "text"
      },
      "source": [
        "**Testing k-NN model on validData_longitude**"
      ]
    },
    {
      "cell_type": "code",
      "metadata": {
        "id": "y6OV8QqaIQkE",
        "colab_type": "code",
        "colab": {
          "base_uri": "https://localhost:8080/",
          "height": 52
        },
        "outputId": "ada96813-c306-4ef7-8212-2828129e83dc"
      },
      "source": [
        "%%R\n",
        "knn_Pred_longitude_val <- predict(knn_fit_longitude, newdata = validData_longitude)\n",
        "postResample(knn_Pred_longitude_val, validData_longitude$LONGITUDE)"
      ],
      "execution_count": 78,
      "outputs": [
        {
          "output_type": "display_data",
          "data": {
            "text/plain": [
              "      RMSE   Rsquared        MAE \n",
              "20.1294736  0.9720978 10.1879940 \n"
            ]
          },
          "metadata": {
            "tags": []
          }
        }
      ]
    },
    {
      "cell_type": "markdown",
      "metadata": {
        "id": "qH89ZpKVItmL",
        "colab_type": "text"
      },
      "source": [
        "###k-NN Model on Latitude"
      ]
    },
    {
      "cell_type": "code",
      "metadata": {
        "id": "sBRpTdksIuUX",
        "colab_type": "code",
        "colab": {}
      },
      "source": [
        "%%R\n",
        "set.seed(123)\n",
        "trainData4 <- createDataPartition(y = trainData_latitude$LATITUDE, p = 0.75, list = FALSE)\n",
        "trainSet4 <- trainData_latitude [trainData4,]\n",
        "testSet4 <- trainData_latitude [-trainData4,]"
      ],
      "execution_count": 0,
      "outputs": []
    },
    {
      "cell_type": "markdown",
      "metadata": {
        "id": "cvSljY5uI0-g",
        "colab_type": "text"
      },
      "source": [
        "**Fit Control / Cross Validation / K-NN model**"
      ]
    },
    {
      "cell_type": "code",
      "metadata": {
        "id": "9P3X2NAPI5w-",
        "colab_type": "code",
        "colab": {
          "base_uri": "https://localhost:8080/",
          "height": 260
        },
        "outputId": "4ced466d-7f63-422e-81cc-b19278728b4a"
      },
      "source": [
        "%%R\n",
        "fitControl <- trainControl(method = \"repeatedcv\", number = 5, repeats = 1)\n",
        "knn_fit_latitude <- train((LATITUDE ~ .), \n",
        "                          data = trainSet4, \n",
        "                          method = \"knn\", \n",
        "                          trControl = fitControl, \n",
        "                          tuneGrid = expand.grid(k = 4))\n",
        "knn_fit_latitude"
      ],
      "execution_count": 80,
      "outputs": [
        {
          "output_type": "display_data",
          "data": {
            "text/plain": [
              "k-Nearest Neighbors \n",
              "\n",
              "14953 samples\n",
              "  520 predictor\n",
              "\n",
              "No pre-processing\n",
              "Resampling: Cross-Validated (5 fold, repeated 1 times) \n",
              "Summary of sample sizes: 11963, 11962, 11964, 11962, 11961 \n",
              "Resampling results:\n",
              "\n",
              "  RMSE     Rsquared   MAE     \n",
              "  7.06613  0.9887733  3.226847\n",
              "\n",
              "Tuning parameter 'k' was held constant at a value of 4\n"
            ]
          },
          "metadata": {
            "tags": []
          }
        }
      ]
    },
    {
      "cell_type": "markdown",
      "metadata": {
        "id": "2o9OBLZXMXo0",
        "colab_type": "text"
      },
      "source": [
        "**Testing k-NN model on testSet4**"
      ]
    },
    {
      "cell_type": "code",
      "metadata": {
        "id": "E2fibbDYMYO2",
        "colab_type": "code",
        "colab": {
          "base_uri": "https://localhost:8080/",
          "height": 52
        },
        "outputId": "bc46dccb-1841-4b88-a493-a720ca2b94c4"
      },
      "source": [
        "%%R\n",
        "knn_Pred_latitude <- predict(knn_fit_latitude, newdata = testSet4)\n",
        "postResample(knn_Pred_latitude, testSet4$LATITUDE)"
      ],
      "execution_count": 81,
      "outputs": [
        {
          "output_type": "display_data",
          "data": {
            "text/plain": [
              "     RMSE  Rsquared       MAE \n",
              "6.8364082 0.9897574 2.9754925 \n"
            ]
          },
          "metadata": {
            "tags": []
          }
        }
      ]
    },
    {
      "cell_type": "markdown",
      "metadata": {
        "id": "duoGRBcFNfkq",
        "colab_type": "text"
      },
      "source": [
        "**Testing k-NN model on validData_latitude**"
      ]
    },
    {
      "cell_type": "code",
      "metadata": {
        "id": "Uo1utdmeNgcF",
        "colab_type": "code",
        "colab": {
          "base_uri": "https://localhost:8080/",
          "height": 52
        },
        "outputId": "2e98fffa-e6a1-444a-d5af-de06a5055be4"
      },
      "source": [
        "%%R\n",
        "knn_Pred_latitude_val <- predict(knn_fit_latitude, newdata = validData_latitude)\n",
        "postResample(knn_Pred_latitude_val, validData_latitude$LATITUDE)"
      ],
      "execution_count": 82,
      "outputs": [
        {
          "output_type": "display_data",
          "data": {
            "text/plain": [
              "      RMSE   Rsquared        MAE \n",
              "16.2498909  0.9477929  8.7700491 \n"
            ]
          },
          "metadata": {
            "tags": []
          }
        }
      ]
    },
    {
      "cell_type": "markdown",
      "metadata": {
        "id": "-CaWsRQWkc5E",
        "colab_type": "text"
      },
      "source": [
        "###Random Forest Model on BUILDING"
      ]
    },
    {
      "cell_type": "code",
      "metadata": {
        "id": "t4d9-9rykhK2",
        "colab_type": "code",
        "colab": {}
      },
      "source": [
        "%%R\n",
        "set.seed(123)\n",
        "trainData5 <- createDataPartition(y = trainData_building$BUILDINGID, p = 0.75, list = FALSE)\n",
        "trainSet5 <- trainData_building [trainData5,]\n",
        "testSet5 <- trainData_building [-trainData5,]"
      ],
      "execution_count": 0,
      "outputs": []
    },
    {
      "cell_type": "markdown",
      "metadata": {
        "id": "lSFPrHshkoXi",
        "colab_type": "text"
      },
      "source": [
        "**Fit Control / Cross Validation / Random Forest model**"
      ]
    },
    {
      "cell_type": "code",
      "metadata": {
        "id": "L3U6O_sHkpUL",
        "colab_type": "code",
        "colab": {
          "base_uri": "https://localhost:8080/",
          "height": 1000
        },
        "outputId": "df9135c1-566c-4b29-d5a3-ac5ffa0c078a"
      },
      "source": [
        "%%R\n",
        "fitControl <- trainControl(method = \"repeatedcv\", number = 5, repeats = 1)\n",
        "RF_fit_building <- randomForest(BUILDINGID~., \n",
        "                                data = trainSet5,\n",
        "                                ntree = 100,\n",
        "                                mtry = 2,\n",
        "                                do.trace = TRUE,\n",
        "                                trControl = fitControl,\n",
        "                                imporve = 0.05,\n",
        "                                nodesize = 5)\n",
        "RF_fit_building"
      ],
      "execution_count": 84,
      "outputs": [
        {
          "output_type": "display_data",
          "data": {
            "text/plain": [
              "ntree      OOB      1      2      3\n",
              "    1:  16.76% 11.32%  1.26% 28.31%\n",
              "    2:  25.57%  5.24% 28.07% 35.51%\n",
              "    3:  19.20%  3.23% 22.65% 26.11%\n",
              "    4:  23.46% 20.70% 34.91% 18.75%\n",
              "    5:  20.35% 19.71% 33.09% 13.78%\n",
              "    6:  20.53% 13.95% 35.70% 15.87%\n",
              "    7:  22.11% 22.08% 41.45% 11.56%\n",
              "    8:  19.55% 23.05% 33.35% 10.08%\n",
              "    9:  17.32% 19.65% 33.07%  7.43%\n",
              "   10:  16.10% 14.62% 33.19%  7.58%\n",
              "   11:  13.74% 13.42% 27.84%  6.20%\n",
              "   12:  12.76% 10.73% 27.53%  5.80%\n",
              "   13:  11.04%  8.46% 25.70%  4.45%\n",
              "   14:   9.16%  6.95% 21.02%  3.90%\n",
              "   15:   8.04%  6.25% 18.40%  3.36%\n",
              "   16:   8.37%  6.84% 20.73%  2.46%\n",
              "   17:   8.33%  7.17% 21.03%  2.02%\n",
              "   18:   7.11%  6.30% 17.20%  2.04%\n",
              "   19:   6.40%  5.54% 15.89%  1.67%\n",
              "   20:   5.67%  4.75% 14.22%  1.50%\n",
              "   21:   5.88%  4.80% 15.76%  1.07%\n",
              "   22:   5.55%  4.80% 14.93%  0.83%\n",
              "   23:   6.15%  5.23% 17.12%  0.66%\n",
              "   24:   5.44%  4.98% 14.75%  0.60%\n",
              "   25:   6.34%  6.15% 17.19%  0.51%\n",
              "   26:   6.09%  5.49% 17.17%  0.37%\n",
              "   27:   5.59%  5.31% 15.35%  0.41%\n",
              "   28:   4.75%  4.70% 12.57%  0.49%\n",
              "   29:   4.22%  3.99% 11.32%  0.46%\n",
              "   30:   3.83%  3.10% 10.75%  0.45%\n",
              "   31:   3.28%  2.72%  9.03%  0.44%\n",
              "   32:   3.06%  2.21%  8.62%  0.48%\n",
              "   33:   2.69%  1.75%  7.83%  0.39%\n",
              "   34:   2.49%  1.35%  7.26%  0.51%\n",
              "   35:   2.29%  1.35%  6.57%  0.46%\n",
              "   36:   2.68%  1.42%  8.16%  0.37%\n",
              "   37:   2.55%  0.97%  8.01%  0.44%\n",
              "   38:   2.49%  1.17%  7.67%  0.38%\n",
              "   39:   2.33%  0.94%  7.29%  0.38%\n",
              "   40:   2.11%  0.81%  6.57%  0.39%\n",
              "   41:   2.30%  0.97%  7.24%  0.34%\n",
              "   42:   2.44%  1.04%  7.67%  0.35%\n",
              "   43:   2.63%  1.04%  8.57%  0.25%\n",
              "   44:   2.79%  1.14%  9.03%  0.28%\n",
              "   45:   2.86%  1.19%  9.26%  0.27%\n",
              "   46:   2.86%  0.94%  9.57%  0.25%\n",
              "   47:   3.09%  1.19% 10.26%  0.21%\n",
              "   48:   2.80%  0.91%  9.37%  0.24%\n",
              "   49:   2.89%  1.04%  9.70%  0.18%\n",
              "   50:   2.70%  0.99%  9.01%  0.20%\n",
              "   51:   2.61%  1.12%  8.60%  0.15%\n",
              "   52:   2.49%  1.02%  8.24%  0.17%\n",
              "   53:   2.45%  1.07%  8.01%  0.17%\n",
              "   54:   2.19%  0.94%  7.11%  0.18%\n",
              "   55:   2.58%  1.17%  8.44%  0.15%\n",
              "   56:   2.35%  0.97%  7.78%  0.15%\n",
              "   57:   2.65%  1.12%  8.80%  0.13%\n",
              "   58:   2.88%  1.14%  9.67%  0.11%\n",
              "   59:   2.57%  1.07%  8.52%  0.14%\n",
              "   60:   2.55%  0.99%  8.55%  0.14%\n",
              "   61:   2.39%  0.84%  8.03%  0.17%\n",
              "   62:   2.37%  0.79%  8.08%  0.13%\n",
              "   63:   2.27%  0.81%  7.60%  0.15%\n",
              "   64:   2.23%  0.64%  7.62%  0.15%\n",
              "   65:   2.18%  0.79%  7.31%  0.14%\n",
              "   66:   2.33%  0.81%  7.88%  0.14%\n",
              "   67:   2.39%  0.81%  8.13%  0.13%\n",
              "   68:   2.27%  0.69%  7.78%  0.14%\n",
              "   69:   2.46%  0.74%  8.52%  0.10%\n",
              "   70:   2.28%  0.71%  7.83%  0.11%\n",
              "   71:   2.39%  0.71%  8.24%  0.11%\n",
              "   72:   2.35%  0.64%  8.16%  0.11%\n",
              "   73:   2.11%  0.61%  7.29%  0.11%\n",
              "   74:   2.01%  0.58%  6.90%  0.11%\n",
              "   75:   1.83%  0.58%  6.24%  0.10%\n",
              "   76:   1.99%  0.64%  6.80%  0.10%\n",
              "   77:   2.07%  0.71%  7.08%  0.08%\n",
              "   78:   1.99%  0.66%  6.80%  0.10%\n",
              "   79:   1.90%  0.61%  6.49%  0.10%\n",
              "   80:   1.81%  0.43%  6.36%  0.07%\n",
              "   81:   1.83%  0.43%  6.42%  0.08%\n",
              "   82:   1.88%  0.38%  6.65%  0.10%\n",
              "   83:   1.80%  0.36%  6.39%  0.08%\n",
              "   84:   1.78%  0.38%  6.24%  0.11%\n",
              "   85:   1.69%  0.43%  5.93%  0.07%\n",
              "   86:   1.76%  0.41%  6.18%  0.08%\n",
              "   87:   1.83%  0.48%  6.34%  0.10%\n",
              "   88:   1.86%  0.41%  6.54%  0.10%\n",
              "   89:   1.81%  0.38%  6.39%  0.08%\n",
              "   90:   1.85%  0.33%  6.57%  0.10%\n",
              "   91:   1.79%  0.25%  6.44%  0.10%\n",
              "   92:   1.76%  0.23%  6.36%  0.08%\n",
              "   93:   1.77%  0.25%  6.34%  0.10%\n",
              "   94:   1.76%  0.28%  6.29%  0.10%\n",
              "   95:   1.77%  0.23%  6.36%  0.10%\n",
              "   96:   1.87%  0.28%  6.70%  0.11%\n",
              "   97:   1.73%  0.18%  6.26%  0.11%\n",
              "   98:   1.84%  0.25%  6.62%  0.10%\n",
              "   99:   1.73%  0.23%  6.24%  0.10%\n",
              "  100:   1.69%  0.23%  6.06%  0.11%\n",
              "\n",
              "Call:\n",
              " randomForest(formula = BUILDINGID ~ ., data = trainSet5, ntree = 100,      mtry = 2, do.trace = TRUE, trControl = fitControl, imporve = 0.05,      nodesize = 5) \n",
              "               Type of random forest: classification\n",
              "                     Number of trees: 100\n",
              "No. of variables tried at each split: 2\n",
              "\n",
              "        OOB estimate of  error rate: 1.69%\n",
              "Confusion matrix:\n",
              "     0    1    2 class.error\n",
              "0 3928    0    9 0.002286005\n",
              "1   17 3661  219 0.060559405\n",
              "2    0    8 7111 0.001123753\n"
            ]
          },
          "metadata": {
            "tags": []
          }
        }
      ]
    },
    {
      "cell_type": "markdown",
      "metadata": {
        "id": "FttBR7l0lSjC",
        "colab_type": "text"
      },
      "source": [
        "**Testing Random Forest model on testSet5**"
      ]
    },
    {
      "cell_type": "code",
      "metadata": {
        "id": "OYpx9MHllTW7",
        "colab_type": "code",
        "colab": {
          "base_uri": "https://localhost:8080/",
          "height": 538
        },
        "outputId": "c1441408-ca6e-41c6-899f-115fa8380018"
      },
      "source": [
        "%%R\n",
        "RF_Pred_building <- predict(RF_fit_building, newdata = testSet5)\n",
        "RF_CM_building <- confusionMatrix(RF_Pred_building, testSet5$BUILDINGID)\n",
        "RF_CM_building"
      ],
      "execution_count": 85,
      "outputs": [
        {
          "output_type": "display_data",
          "data": {
            "text/plain": [
              "Confusion Matrix and Statistics\n",
              "\n",
              "          Reference\n",
              "Prediction    0    1    2\n",
              "         0 1312    0    0\n",
              "         1    0 1252    0\n",
              "         2    0   47 2373\n",
              "\n",
              "Overall Statistics\n",
              "                                          \n",
              "               Accuracy : 0.9906          \n",
              "                 95% CI : (0.9875, 0.9931)\n",
              "    No Information Rate : 0.4761          \n",
              "    P-Value [Acc > NIR] : < 2.2e-16       \n",
              "                                          \n",
              "                  Kappa : 0.9851          \n",
              "                                          \n",
              " Mcnemar's Test P-Value : NA              \n",
              "\n",
              "Statistics by Class:\n",
              "\n",
              "                     Class: 0 Class: 1 Class: 2\n",
              "Sensitivity            1.0000   0.9638   1.0000\n",
              "Specificity            1.0000   1.0000   0.9820\n",
              "Pos Pred Value         1.0000   1.0000   0.9806\n",
              "Neg Pred Value         1.0000   0.9874   1.0000\n",
              "Prevalence             0.2632   0.2606   0.4761\n",
              "Detection Rate         0.2632   0.2512   0.4761\n",
              "Detection Prevalence   0.2632   0.2512   0.4856\n",
              "Balanced Accuracy      1.0000   0.9819   0.9910\n"
            ]
          },
          "metadata": {
            "tags": []
          }
        }
      ]
    },
    {
      "cell_type": "markdown",
      "metadata": {
        "id": "zFlfsEkElZoV",
        "colab_type": "text"
      },
      "source": [
        "**Testing Random Forest model on validData_building**"
      ]
    },
    {
      "cell_type": "code",
      "metadata": {
        "id": "MpPDo7W6la0v",
        "colab_type": "code",
        "colab": {
          "base_uri": "https://localhost:8080/",
          "height": 538
        },
        "outputId": "0dc61dc6-2082-480e-bcaf-c74c3f832f1b"
      },
      "source": [
        "%%R\n",
        "RF_Pred_building_val <- predict(RF_fit_building, newdata = validData_building)\n",
        "RF_CM_building_val <- confusionMatrix(RF_Pred_building_val, validData_building$BUILDINGID)\n",
        "RF_CM_building_val"
      ],
      "execution_count": 86,
      "outputs": [
        {
          "output_type": "display_data",
          "data": {
            "text/plain": [
              "Confusion Matrix and Statistics\n",
              "\n",
              "          Reference\n",
              "Prediction   0   1   2\n",
              "         0 535   0   0\n",
              "         1   0 289   0\n",
              "         2   1  18 268\n",
              "\n",
              "Overall Statistics\n",
              "                                          \n",
              "               Accuracy : 0.9829          \n",
              "                 95% CI : (0.9734, 0.9897)\n",
              "    No Information Rate : 0.4824          \n",
              "    P-Value [Acc > NIR] : < 2.2e-16       \n",
              "                                          \n",
              "                  Kappa : 0.973           \n",
              "                                          \n",
              " Mcnemar's Test P-Value : NA              \n",
              "\n",
              "Statistics by Class:\n",
              "\n",
              "                     Class: 0 Class: 1 Class: 2\n",
              "Sensitivity            0.9981   0.9414   1.0000\n",
              "Specificity            1.0000   1.0000   0.9775\n",
              "Pos Pred Value         1.0000   1.0000   0.9338\n",
              "Neg Pred Value         0.9983   0.9781   1.0000\n",
              "Prevalence             0.4824   0.2763   0.2412\n",
              "Detection Rate         0.4815   0.2601   0.2412\n",
              "Detection Prevalence   0.4815   0.2601   0.2583\n",
              "Balanced Accuracy      0.9991   0.9707   0.9887\n"
            ]
          },
          "metadata": {
            "tags": []
          }
        }
      ]
    },
    {
      "cell_type": "markdown",
      "metadata": {
        "id": "FoRdHuN-lkM6",
        "colab_type": "text"
      },
      "source": [
        "###Random Forest Model on FLOOR"
      ]
    },
    {
      "cell_type": "code",
      "metadata": {
        "id": "xeEYRsevllgP",
        "colab_type": "code",
        "colab": {}
      },
      "source": [
        "%%R\n",
        "set.seed(123)\n",
        "trainData6 <- createDataPartition(y = trainData_floor$FLOOR, p = 0.75, list = FALSE)\n",
        "trainSet6 <- trainData_floor [trainData6,]\n",
        "testSet6 <- trainData_floor [-trainData6,]"
      ],
      "execution_count": 0,
      "outputs": []
    },
    {
      "cell_type": "markdown",
      "metadata": {
        "id": "0EKc4lBvl4Ba",
        "colab_type": "text"
      },
      "source": [
        "**Fit Control / Cross Validation / Random Forest model**"
      ]
    },
    {
      "cell_type": "code",
      "metadata": {
        "id": "CCgemlfLl7pO",
        "colab_type": "code",
        "colab": {
          "base_uri": "https://localhost:8080/",
          "height": 1000
        },
        "outputId": "212b32c7-6374-4a22-abd0-980f43a15d79"
      },
      "source": [
        "%%R\n",
        "fitControl <- trainControl(method = \"repeatedcv\", number = 5, repeats = 1)\n",
        "RF_fit_floor <- randomForest(FLOOR~., \n",
        "                             data = trainSet6,\n",
        "                             ntree = 100,\n",
        "                             mtry = 2,\n",
        "                             do.trace = TRUE,\n",
        "                             trControl = fitControl,\n",
        "                             imporve = 0.05,\n",
        "                             nodesize = 5)\n",
        "RF_fit_floor"
      ],
      "execution_count": 88,
      "outputs": [
        {
          "output_type": "display_data",
          "data": {
            "text/plain": [
              "ntree      OOB      1      2      3      4      5\n",
              "    1:  53.75% 54.62% 50.94% 78.95% 29.13% 79.13%\n",
              "    2:  56.37% 34.82% 50.22% 83.61% 50.09% 90.31%\n",
              "    3:  55.21% 40.72% 49.16% 82.30% 41.83% 92.52%\n",
              "    4:  54.55% 41.05% 55.00% 82.86% 33.33% 89.40%\n",
              "    5:  53.37% 44.02% 47.22% 83.60% 34.29% 84.06%\n",
              "    6:  51.66% 38.40% 49.32% 76.55% 36.51% 84.58%\n",
              "    7:  52.58% 42.67% 52.30% 81.17% 29.48% 84.03%\n",
              "    8:  51.69% 46.47% 48.25% 79.75% 28.39% 81.74%\n",
              "    9:  52.21% 51.15% 48.40% 82.75% 23.48% 82.98%\n",
              "   10:  50.73% 47.75% 47.58% 81.48% 22.57% 82.48%\n",
              "   11:  49.37% 45.37% 48.27% 79.90% 19.15% 85.91%\n",
              "   12:  49.89% 45.83% 50.43% 81.20% 17.08% 88.11%\n",
              "   13:  51.46% 49.25% 55.45% 82.74% 13.64% 89.94%\n",
              "   14:  50.28% 48.42% 51.30% 81.71% 14.20% 92.36%\n",
              "   15:  49.08% 44.98% 50.81% 82.16% 12.22% 93.70%\n",
              "   16:  47.68% 42.40% 50.00% 82.04% 10.30% 91.77%\n",
              "   17:  46.92% 39.33% 50.55% 82.59%  9.46% 89.36%\n",
              "   18:  46.45% 39.15% 46.09% 84.02% 10.91% 89.36%\n",
              "   19:  45.63% 38.37% 44.12% 83.18% 11.38% 87.67%\n",
              "   20:  45.70% 41.32% 38.04% 84.99% 13.07% 89.72%\n",
              "   21:  45.08% 40.31% 39.49% 83.54% 11.17% 90.57%\n",
              "   22:  44.95% 41.75% 37.25% 84.51% 10.46% 92.02%\n",
              "   23:  45.11% 40.43% 39.51% 84.12% 10.30% 92.26%\n",
              "   24:  46.34% 42.69% 42.52% 85.75%  8.53% 93.35%\n",
              "   25:  46.37% 43.67% 43.11% 85.24%  7.55% 93.95%\n",
              "   26:  46.82% 43.94% 45.71% 85.11%  6.42% 94.80%\n",
              "   27:  46.12% 42.42% 44.83% 83.94%  6.71% 95.65%\n",
              "   28:  44.96% 37.63% 45.52% 82.67%  6.95% 94.44%\n",
              "   29:  44.29% 37.26% 45.15% 80.68%  6.44% 95.77%\n",
              "   30:  44.24% 39.52% 41.58% 81.55%  7.26% 94.80%\n",
              "   31:  43.93% 41.32% 37.34% 81.70%  8.45% 95.28%\n",
              "   32:  44.28% 43.85% 37.29% 82.19%  7.37% 94.92%\n",
              "   33:  45.02% 44.55% 39.85% 83.09%  6.26% 95.28%\n",
              "   34:  44.70% 46.17% 35.34% 84.09%  6.97% 96.25%\n",
              "   35:  44.53% 47.33% 33.77% 83.79%  7.21% 95.89%\n",
              "   36:  43.97% 44.80% 33.80% 84.06%  6.84% 96.37%\n",
              "   37:  43.45% 43.33% 33.88% 83.30%  6.60% 96.49%\n",
              "   38:  43.31% 43.55% 34.51% 82.22%  6.05% 97.10%\n",
              "   39:  42.85% 42.75% 33.74% 81.61%  6.10% 97.58%\n",
              "   40:  42.36% 39.70% 34.67% 81.49%  6.00% 97.58%\n",
              "   41:  42.39% 41.90% 33.32% 81.64%  5.44% 97.46%\n",
              "   42:  42.91% 42.42% 34.43% 82.40%  5.10% 98.31%\n",
              "   43:  42.78% 43.48% 32.52% 82.67%  5.34% 98.31%\n",
              "   44:  42.88% 43.30% 32.25% 83.03%  5.76% 98.55%\n",
              "   45:  42.26% 41.32% 32.84% 82.43%  5.12% 97.94%\n",
              "   46:  42.30% 43.55% 30.06% 82.61%  5.94% 97.82%\n",
              "   47:  42.03% 42.84% 29.85% 82.34%  6.21% 96.61%\n",
              "   48:  41.60% 42.84% 27.99% 81.91%  6.52% 97.58%\n",
              "   49:  42.04% 44.03% 28.76% 82.40%  6.23% 96.74%\n",
              "   50:  41.67% 41.90% 29.74% 81.73%  6.02% 97.58%\n",
              "   51:  41.23% 40.04% 29.80% 81.13%  6.47% 97.22%\n",
              "   52:  40.62% 37.56% 30.44% 80.10%  6.34% 97.70%\n",
              "   53:  40.35% 35.67% 31.08% 79.50%  6.76% 97.94%\n",
              "   54:  40.42% 37.63% 28.81% 79.74%  7.53% 97.34%\n",
              "   55:  40.44% 38.27% 29.21% 79.35%  6.84% 97.94%\n",
              "   56:  40.44% 36.89% 30.54% 79.32%  6.79% 97.82%\n",
              "   57:  39.92% 34.64% 31.08% 78.62%  6.84% 97.46%\n",
              "   58:  39.74% 34.12% 30.65% 79.62%  6.15% 97.34%\n",
              "   59:  39.41% 32.56% 31.05% 79.44%  6.05% 96.98%\n",
              "   60:  38.99% 31.98% 30.78% 78.77%  5.78% 96.74%\n",
              "   61:  39.13% 31.58% 31.77% 79.08%  5.60% 96.01%\n",
              "   62:  38.76% 31.22% 31.98% 78.08%  5.26% 95.28%\n",
              "   63:  38.96% 31.40% 32.65% 78.17%  4.99% 96.01%\n",
              "   64:  38.84% 33.63% 29.85% 77.90%  5.57% 96.13%\n",
              "   65:  38.84% 33.69% 29.10% 78.20%  5.94% 96.37%\n",
              "   66:  38.85% 35.25% 27.72% 78.56%  5.73% 96.13%\n",
              "   67:  39.13% 36.62% 26.87% 79.02%  5.89% 97.22%\n",
              "   68:  38.67% 34.88% 26.52% 79.08%  5.89% 96.98%\n",
              "   69:  38.84% 35.46% 26.73% 79.35%  5.71% 96.61%\n",
              "   70:  38.65% 33.72% 27.27% 79.47%  5.71% 97.22%\n",
              "   71:  38.34% 32.56% 27.56% 79.23%  5.36% 97.46%\n",
              "   72:  38.82% 33.75% 28.49% 79.29%  5.20% 97.58%\n",
              "   73:  38.77% 33.84% 28.54% 78.62%  5.41% 97.70%\n",
              "   74:  38.48% 31.92% 29.10% 78.83%  5.31% 97.34%\n",
              "   75:  37.92% 31.77% 27.72% 78.29%  4.97% 97.82%\n",
              "   76:  37.78% 31.28% 27.80% 77.69%  5.31% 97.70%\n",
              "   77:  37.60% 29.57% 28.86% 77.08%  5.52% 97.70%\n",
              "   78:  37.47% 29.60% 29.21% 76.12%  5.52% 97.70%\n",
              "   79:  37.49% 30.12% 28.57% 76.45%  5.34% 98.31%\n",
              "   80:  37.40% 29.94% 29.08% 75.72%  5.26% 98.43%\n",
              "   81:  37.74% 29.87% 29.74% 76.93%  4.89% 98.55%\n",
              "   82:  37.49% 28.75% 29.72% 77.08%  4.75% 98.79%\n",
              "   83:  37.37% 28.20% 29.53% 76.93%  5.07% 98.67%\n",
              "   84:  37.12% 27.74% 28.30% 77.36%  5.31% 98.79%\n",
              "   85:  36.91% 28.01% 27.72% 76.90%  5.18% 98.91%\n",
              "   86:  37.00% 28.87% 27.45% 77.26%  4.68% 99.27%\n",
              "   87:  37.66% 29.75% 28.84% 78.32%  4.17% 99.40%\n",
              "   88:  37.79% 31.10% 27.80% 78.38%  4.52% 99.40%\n",
              "   89:  37.77% 30.91% 27.85% 78.77%  4.20% 99.40%\n",
              "   90:  37.65% 30.64% 27.80% 78.99%  3.88% 99.15%\n",
              "   91:  37.58% 30.97% 27.64% 78.99%  3.62% 98.55%\n",
              "   92:  37.57% 29.84% 28.20% 79.35%  3.62% 98.79%\n",
              "   93:  37.82% 29.84% 29.48% 79.35%  3.30% 98.91%\n",
              "   94:  37.73% 30.45% 28.52% 79.20%  3.51% 98.91%\n",
              "   95:  37.49% 30.33% 28.49% 78.74%  3.17% 98.67%\n",
              "   96:  37.68% 30.97% 28.22% 79.56%  2.91% 98.67%\n",
              "   97:  37.69% 31.00% 27.93% 79.62%  3.09% 98.91%\n",
              "   98:  37.56% 30.94% 27.51% 79.59%  3.04% 99.15%\n",
              "   99:  37.44% 30.91% 27.75% 78.86%  2.98% 99.15%\n",
              "  100:  37.85% 31.61% 28.44% 79.44%  2.80% 99.15%\n",
              "\n",
              "Call:\n",
              " randomForest(formula = FLOOR ~ ., data = trainSet6, ntree = 100,      mtry = 2, do.trace = TRUE, trControl = fitControl, imporve = 0.05,      nodesize = 5) \n",
              "               Type of random forest: classification\n",
              "                     Number of trees: 100\n",
              "No. of variables tried at each split: 2\n",
              "\n",
              "        OOB estimate of  error rate: 37.85%\n",
              "Confusion matrix:\n",
              "     0    1   2    3 4 class.error\n",
              "0 2241  718   4  314 0  0.31614281\n",
              "1  387 2685  46  634 0  0.28438166\n",
              "2   75  686 681 1870 0  0.79438406\n",
              "3    7   61  38 3680 0  0.02799789\n",
              "4    0    5   0  815 7  0.99153567\n"
            ]
          },
          "metadata": {
            "tags": []
          }
        }
      ]
    },
    {
      "cell_type": "markdown",
      "metadata": {
        "id": "BcGq2SD_mdh-",
        "colab_type": "text"
      },
      "source": [
        "**Testing Random Forest model on testSet6**"
      ]
    },
    {
      "cell_type": "code",
      "metadata": {
        "id": "W_lf9TEOmeWn",
        "colab_type": "code",
        "colab": {
          "base_uri": "https://localhost:8080/",
          "height": 573
        },
        "outputId": "5f03f27c-7efc-4756-9edd-d9aec7dc7cf1"
      },
      "source": [
        "%%R\n",
        "RF_Pred_floor <- predict(RF_fit_floor, newdata = testSet6)\n",
        "RF_CM_floor <- confusionMatrix(RF_Pred_floor, testSet6$FLOOR)\n",
        "RF_CM_floor"
      ],
      "execution_count": 89,
      "outputs": [
        {
          "output_type": "display_data",
          "data": {
            "text/plain": [
              "Confusion Matrix and Statistics\n",
              "\n",
              "          Reference\n",
              "Prediction    0    1    2    3    4\n",
              "         0  833  112   16    0    0\n",
              "         1  194  963  203    9    0\n",
              "         2    1   20  205    4    0\n",
              "         3   64  155  680 1249  275\n",
              "         4    0    0    0    0    0\n",
              "\n",
              "Overall Statistics\n",
              "                                          \n",
              "               Accuracy : 0.6522          \n",
              "                 95% CI : (0.6388, 0.6654)\n",
              "    No Information Rate : 0.2533          \n",
              "    P-Value [Acc > NIR] : < 2.2e-16       \n",
              "                                          \n",
              "                  Kappa : 0.5396          \n",
              "                                          \n",
              " Mcnemar's Test P-Value : NA              \n",
              "\n",
              "Statistics by Class:\n",
              "\n",
              "                     Class: 0 Class: 1 Class: 2 Class: 3 Class: 4\n",
              "Sensitivity            0.7628   0.7704  0.18569   0.9897  0.00000\n",
              "Specificity            0.9671   0.8912  0.99356   0.6845  1.00000\n",
              "Pos Pred Value         0.8668   0.7034  0.89130   0.5155      NaN\n",
              "Neg Pred Value         0.9356   0.9206  0.81086   0.9949  0.94481\n",
              "Prevalence             0.2191   0.2509  0.22155   0.2533  0.05519\n",
              "Detection Rate         0.1672   0.1933  0.04114   0.2507  0.00000\n",
              "Detection Prevalence   0.1929   0.2747  0.04616   0.4863  0.00000\n",
              "Balanced Accuracy      0.8650   0.8308  0.58962   0.8371  0.50000\n"
            ]
          },
          "metadata": {
            "tags": []
          }
        }
      ]
    },
    {
      "cell_type": "markdown",
      "metadata": {
        "id": "k-SYPbeiml26",
        "colab_type": "text"
      },
      "source": [
        "**Testing Random Forest model on validData_floor**"
      ]
    },
    {
      "cell_type": "code",
      "metadata": {
        "id": "HgE90knAmm-a",
        "colab_type": "code",
        "colab": {
          "base_uri": "https://localhost:8080/",
          "height": 573
        },
        "outputId": "fb5229b6-489a-46e2-ad11-daa1bdd1ee7b"
      },
      "source": [
        "%%R\n",
        "RF_Pred_floor_val <- predict(RF_fit_floor, newdata = validData_floor)\n",
        "RF_CM_floor_val <- confusionMatrix(RF_Pred_floor_val, validData_floor$FLOOR)\n",
        "RF_CM_floor_val"
      ],
      "execution_count": 90,
      "outputs": [
        {
          "output_type": "display_data",
          "data": {
            "text/plain": [
              "Confusion Matrix and Statistics\n",
              "\n",
              "          Reference\n",
              "Prediction   0   1   2   3   4\n",
              "         0  78  31   0   0   1\n",
              "         1  33 360  27   2   0\n",
              "         2   0  10  43   2   0\n",
              "         3  21  61 236 168  38\n",
              "         4   0   0   0   0   0\n",
              "\n",
              "Overall Statistics\n",
              "                                          \n",
              "               Accuracy : 0.5842          \n",
              "                 95% CI : (0.5545, 0.6133)\n",
              "    No Information Rate : 0.4158          \n",
              "    P-Value [Acc > NIR] : < 2.2e-16       \n",
              "                                          \n",
              "                  Kappa : 0.4408          \n",
              "                                          \n",
              " Mcnemar's Test P-Value : NA              \n",
              "\n",
              "Statistics by Class:\n",
              "\n",
              "                     Class: 0 Class: 1 Class: 2 Class: 3 Class: 4\n",
              "Sensitivity           0.59091   0.7792   0.1405   0.9767   0.0000\n",
              "Specificity           0.96731   0.9045   0.9851   0.6209   1.0000\n",
              "Pos Pred Value        0.70909   0.8531   0.7818   0.3206      NaN\n",
              "Neg Pred Value        0.94605   0.8520   0.7509   0.9932   0.9649\n",
              "Prevalence            0.11881   0.4158   0.2754   0.1548   0.0351\n",
              "Detection Rate        0.07021   0.3240   0.0387   0.1512   0.0000\n",
              "Detection Prevalence  0.09901   0.3798   0.0495   0.4716   0.0000\n",
              "Balanced Accuracy     0.77911   0.8418   0.5628   0.7988   0.5000\n"
            ]
          },
          "metadata": {
            "tags": []
          }
        }
      ]
    },
    {
      "cell_type": "markdown",
      "metadata": {
        "id": "gDegFVJrmsz6",
        "colab_type": "text"
      },
      "source": [
        "###Random Forest Model on LONGITUDE"
      ]
    },
    {
      "cell_type": "code",
      "metadata": {
        "id": "MXDLJ8tumuJr",
        "colab_type": "code",
        "colab": {}
      },
      "source": [
        "%%R\n",
        "set.seed(123)\n",
        "trainData7 <- createDataPartition(y = trainData_longitude$LONGITUDE, p = 0.75, list = FALSE)\n",
        "trainSet7 <- trainData_longitude [trainData7,]\n",
        "testSet7 <- trainData_longitude [-trainData7,]"
      ],
      "execution_count": 0,
      "outputs": []
    },
    {
      "cell_type": "markdown",
      "metadata": {
        "id": "_fo6pbYEm0jM",
        "colab_type": "text"
      },
      "source": [
        "**Fit Control / Cross Validation / Random Forest model**"
      ]
    },
    {
      "cell_type": "code",
      "metadata": {
        "id": "m4S9T448m2Nt",
        "colab_type": "code",
        "colab": {
          "base_uri": "https://localhost:8080/",
          "height": 1000
        },
        "outputId": "09580176-bff5-4298-8948-cfdcd238ccb8"
      },
      "source": [
        "%%R\n",
        "fitControl <- trainControl(method = \"repeatedcv\", number = 5, repeats = 1)\n",
        "RF_fit_longitude <- randomForest(LONGITUDE~., \n",
        "                                 data = trainSet7,\n",
        "                                 ntree = 100,\n",
        "                                 mtry = 2,\n",
        "                                 do.trace = TRUE,\n",
        "                                 trControl = fitControl,\n",
        "                                 imporve = 0.05,\n",
        "                                 nodesize = 5)\n",
        "RF_fit_longitude"
      ],
      "execution_count": 92,
      "outputs": [
        {
          "output_type": "display_data",
          "data": {
            "text/plain": [
              "     |      Out-of-bag   |\n",
              "Tree |      MSE  %Var(y) |\n",
              "   1 |     2266    14.87 |\n",
              "   2 |     3743    24.57 |\n",
              "   3 |     2980    19.56 |\n",
              "   4 |     3394    22.28 |\n",
              "   5 |     2980    19.56 |\n",
              "   6 |     3514    23.07 |\n",
              "   7 |     3818    25.06 |\n",
              "   8 |     3605    23.66 |\n",
              "   9 |     4305    28.26 |\n",
              "  10 |     4228    27.75 |\n",
              "  11 |     3800    24.95 |\n",
              "  12 |     3597    23.62 |\n",
              "  13 |     3488    22.90 |\n",
              "  14 |     3939    25.86 |\n",
              "  15 |     4239    27.83 |\n",
              "  16 |     4184    27.47 |\n",
              "  17 |     3999    26.25 |\n",
              "  18 |     3842    25.22 |\n",
              "  19 |     3878    25.46 |\n",
              "  20 |     3659    24.02 |\n",
              "  21 |     3691    24.23 |\n",
              "  22 |     3712    24.37 |\n",
              "  23 |     3882    25.49 |\n",
              "  24 |     4027    26.44 |\n",
              "  25 |     3851    25.28 |\n",
              "  26 |     3867    25.38 |\n",
              "  27 |     3951    25.94 |\n",
              "  28 |     3771    24.75 |\n",
              "  29 |     3851    25.28 |\n",
              "  30 |     3683    24.18 |\n",
              "  31 |     3711    24.36 |\n",
              "  32 |     3592    23.58 |\n",
              "  33 |     3472    22.79 |\n",
              "  34 |     3487    22.89 |\n",
              "  35 |     3406    22.36 |\n",
              "  36 |     3262    21.41 |\n",
              "  37 |     3444    22.61 |\n",
              "  38 |     3437    22.56 |\n",
              "  39 |     3545    23.27 |\n",
              "  40 |     3525    23.14 |\n",
              "  41 |     3574    23.46 |\n",
              "  42 |     3468    22.77 |\n",
              "  43 |     3442    22.59 |\n",
              "  44 |     3478    22.83 |\n",
              "  45 |     3508    23.03 |\n",
              "  46 |     3475    22.81 |\n",
              "  47 |     3468    22.76 |\n",
              "  48 |     3502    22.99 |\n",
              "  49 |     3485    22.88 |\n",
              "  50 |     3572    23.45 |\n",
              "  51 |     3594    23.59 |\n",
              "  52 |     3630    23.83 |\n",
              "  53 |     3551    23.31 |\n",
              "  54 |     3644    23.92 |\n",
              "  55 |     3736    24.53 |\n",
              "  56 |     3748    24.61 |\n",
              "  57 |     3729    24.48 |\n",
              "  58 |     3730    24.49 |\n",
              "  59 |     3777    24.79 |\n",
              "  60 |     3777    24.79 |\n",
              "  61 |     3760    24.68 |\n",
              "  62 |     3744    24.58 |\n",
              "  63 |     3684    24.18 |\n",
              "  64 |     3609    23.69 |\n",
              "  65 |     3684    24.18 |\n",
              "  66 |     3649    23.95 |\n",
              "  67 |     3734    24.51 |\n",
              "  68 |     3674    24.12 |\n",
              "  69 |     3603    23.65 |\n",
              "  70 |     3541    23.25 |\n",
              "  71 |     3495    22.94 |\n",
              "  72 |     3469    22.77 |\n",
              "  73 |     3486    22.88 |\n",
              "  74 |     3438    22.57 |\n",
              "  75 |     3430    22.51 |\n",
              "  76 |     3467    22.76 |\n",
              "  77 |     3553    23.32 |\n",
              "  78 |     3602    23.65 |\n",
              "  79 |     3568    23.42 |\n",
              "  80 |     3519    23.10 |\n",
              "  81 |     3471    22.79 |\n",
              "  82 |     3460    22.72 |\n",
              "  83 |     3427    22.50 |\n",
              "  84 |     3384    22.21 |\n",
              "  85 |     3382    22.20 |\n",
              "  86 |     3395    22.29 |\n",
              "  87 |     3377    22.17 |\n",
              "  88 |     3412    22.40 |\n",
              "  89 |     3392    22.27 |\n",
              "  90 |     3355    22.02 |\n",
              "  91 |     3363    22.08 |\n",
              "  92 |     3406    22.36 |\n",
              "  93 |     3385    22.22 |\n",
              "  94 |     3375    22.16 |\n",
              "  95 |     3406    22.36 |\n",
              "  96 |     3422    22.46 |\n",
              "  97 |     3417    22.43 |\n",
              "  98 |     3400    22.32 |\n",
              "  99 |     3394    22.28 |\n",
              " 100 |     3366    22.10 |\n",
              "\n",
              "Call:\n",
              " randomForest(formula = LONGITUDE ~ ., data = trainSet7, ntree = 100,      mtry = 2, do.trace = TRUE, trControl = fitControl, imporve = 0.05,      nodesize = 5) \n",
              "               Type of random forest: regression\n",
              "                     Number of trees: 100\n",
              "No. of variables tried at each split: 2\n",
              "\n",
              "          Mean of squared residuals: 3366.354\n",
              "                    % Var explained: 77.9\n"
            ]
          },
          "metadata": {
            "tags": []
          }
        }
      ]
    },
    {
      "cell_type": "markdown",
      "metadata": {
        "id": "2bEds2C1m_S2",
        "colab_type": "text"
      },
      "source": [
        "**Testing Random Forest model on testSet7**"
      ]
    },
    {
      "cell_type": "code",
      "metadata": {
        "id": "60cREEYRnAg0",
        "colab_type": "code",
        "colab": {
          "base_uri": "https://localhost:8080/",
          "height": 52
        },
        "outputId": "e13940d3-c7de-4249-e9a0-7d3a2f9c4466"
      },
      "source": [
        "%%R\n",
        "RF_Pred_longitude <- predict(RF_fit_longitude, newdata = testSet7)\n",
        "postResample(RF_Pred_longitude, testSet7$LONGITUDE)"
      ],
      "execution_count": 93,
      "outputs": [
        {
          "output_type": "display_data",
          "data": {
            "text/plain": [
              "      RMSE   Rsquared        MAE \n",
              "57.0550775  0.9460101 48.7153066 \n"
            ]
          },
          "metadata": {
            "tags": []
          }
        }
      ]
    },
    {
      "cell_type": "markdown",
      "metadata": {
        "id": "dwv4gFVjnFNV",
        "colab_type": "text"
      },
      "source": [
        "**Testing Random Forest model on validData_longitude**"
      ]
    },
    {
      "cell_type": "code",
      "metadata": {
        "id": "kwezKKhZnGCe",
        "colab_type": "code",
        "colab": {
          "base_uri": "https://localhost:8080/",
          "height": 52
        },
        "outputId": "18348951-c925-43cd-fc91-3f9edab18308"
      },
      "source": [
        "%%R\n",
        "RF_Pred_longitude_val <- predict(RF_fit_longitude, newdata = validData_longitude)\n",
        "postResample(RF_Pred_longitude_val, validData_longitude$LONGITUDE)"
      ],
      "execution_count": 94,
      "outputs": [
        {
          "output_type": "display_data",
          "data": {
            "text/plain": [
              "     RMSE  Rsquared       MAE \n",
              "65.072589  0.934797 56.944552 \n"
            ]
          },
          "metadata": {
            "tags": []
          }
        }
      ]
    },
    {
      "cell_type": "markdown",
      "metadata": {
        "id": "8cK2tqFonLW3",
        "colab_type": "text"
      },
      "source": [
        "###Random Forest Model on LATITUDE"
      ]
    },
    {
      "cell_type": "code",
      "metadata": {
        "id": "xClUjDaZnMm3",
        "colab_type": "code",
        "colab": {}
      },
      "source": [
        "%%R\n",
        "set.seed(123)\n",
        "trainData8 <- createDataPartition(y = trainData_latitude$LATITUDE, p = 0.75, list = FALSE)\n",
        "trainSet8 <- trainData_latitude [trainData8,]\n",
        "testSet8 <- trainData_latitude [-trainData8,]"
      ],
      "execution_count": 0,
      "outputs": []
    },
    {
      "cell_type": "markdown",
      "metadata": {
        "id": "k2gFj7gFnTeJ",
        "colab_type": "text"
      },
      "source": [
        "**Fit Control / Cross Validation / Random Forest model**"
      ]
    },
    {
      "cell_type": "code",
      "metadata": {
        "id": "aINvbBfanUgH",
        "colab_type": "code",
        "colab": {
          "base_uri": "https://localhost:8080/",
          "height": 1000
        },
        "outputId": "bbb0a272-6c38-46fb-8cf1-4e381ee3ca8f"
      },
      "source": [
        "%%R\n",
        "fitControl <- trainControl(method = \"repeatedcv\", number = 5, repeats = 1)\n",
        "RF_fit_latitude <- randomForest(LATITUDE~., \n",
        "                                data = trainSet8,\n",
        "                                ntree = 100,\n",
        "                                mtry = 2,\n",
        "                                do.trace = TRUE,\n",
        "                                trControl = fitControl,\n",
        "                                imporve = 0.05,\n",
        "                                nodesize = 5)\n",
        "RF_fit_latitude"
      ],
      "execution_count": 96,
      "outputs": [
        {
          "output_type": "display_data",
          "data": {
            "text/plain": [
              "     |      Out-of-bag   |\n",
              "Tree |      MSE  %Var(y) |\n",
              "   1 |     1967    44.16 |\n",
              "   2 |     1595    35.81 |\n",
              "   3 |     2216    49.74 |\n",
              "   4 |     2297    51.55 |\n",
              "   5 |     2067    46.40 |\n",
              "   6 |     2197    49.32 |\n",
              "   7 |     2188    49.11 |\n",
              "   8 |     1961    44.00 |\n",
              "   9 |     1678    37.66 |\n",
              "  10 |     1546    34.71 |\n",
              "  11 |     1594    35.78 |\n",
              "  12 |     1453    32.62 |\n",
              "  13 |     1421    31.89 |\n",
              "  14 |     1411    31.67 |\n",
              "  15 |     1376    30.88 |\n",
              "  16 |     1292    29.01 |\n",
              "  17 |     1284    28.82 |\n",
              "  18 |     1301    29.21 |\n",
              "  19 |     1400    31.42 |\n",
              "  20 |     1491    33.46 |\n",
              "  21 |     1451    32.56 |\n",
              "  22 |     1424    31.97 |\n",
              "  23 |     1492    33.49 |\n",
              "  24 |     1459    32.76 |\n",
              "  25 |     1439    32.31 |\n",
              "  26 |     1449    32.52 |\n",
              "  27 |     1447    32.48 |\n",
              "  28 |     1422    31.92 |\n",
              "  29 |     1426    32.01 |\n",
              "  30 |     1436    32.23 |\n",
              "  31 |     1413    31.71 |\n",
              "  32 |     1451    32.56 |\n",
              "  33 |     1423    31.95 |\n",
              "  34 |     1371    30.78 |\n",
              "  35 |     1345    30.20 |\n",
              "  36 |     1337    30.00 |\n",
              "  37 |     1300    29.18 |\n",
              "  38 |     1321    29.66 |\n",
              "  39 |     1288    28.92 |\n",
              "  40 |     1305    29.29 |\n",
              "  41 |     1264    28.38 |\n",
              "  42 |     1244    27.92 |\n",
              "  43 |     1212    27.21 |\n",
              "  44 |     1191    26.72 |\n",
              "  45 |     1185    26.60 |\n",
              "  46 |     1161    26.05 |\n",
              "  47 |     1152    25.86 |\n",
              "  48 |     1132    25.41 |\n",
              "  49 |     1113    24.97 |\n",
              "  50 |     1132    25.40 |\n",
              "  51 |     1118    25.09 |\n",
              "  52 |     1132    25.42 |\n",
              "  53 |     1168    26.22 |\n",
              "  54 |     1155    25.91 |\n",
              "  55 |     1134    25.45 |\n",
              "  56 |     1120    25.14 |\n",
              "  57 |     1142    25.62 |\n",
              "  58 |     1126    25.26 |\n",
              "  59 |     1116    25.04 |\n",
              "  60 |     1147    25.76 |\n",
              "  61 |     1128    25.32 |\n",
              "  62 |     1149    25.78 |\n",
              "  63 |     1137    25.51 |\n",
              "  64 |     1131    25.38 |\n",
              "  65 |     1136    25.51 |\n",
              "  66 |     1149    25.79 |\n",
              "  67 |     1155    25.93 |\n",
              "  68 |     1138    25.55 |\n",
              "  69 |     1121    25.16 |\n",
              "  70 |     1111    24.94 |\n",
              "  71 |     1100    24.69 |\n",
              "  72 |     1109    24.90 |\n",
              "  73 |     1102    24.74 |\n",
              "  74 |     1110    24.92 |\n",
              "  75 |     1095    24.58 |\n",
              "  76 |     1106    24.82 |\n",
              "  77 |     1109    24.89 |\n",
              "  78 |     1102    24.73 |\n",
              "  79 |     1090    24.46 |\n",
              "  80 |     1083    24.31 |\n",
              "  81 |     1071    24.04 |\n",
              "  82 |     1058    23.74 |\n",
              "  83 |     1046    23.49 |\n",
              "  84 |     1035    23.23 |\n",
              "  85 |     1025    23.01 |\n",
              "  86 |     1019    22.88 |\n",
              "  87 |     1026    23.03 |\n",
              "  88 |     1014    22.77 |\n",
              "  89 |     1013    22.75 |\n",
              "  90 |     1003    22.52 |\n",
              "  91 |     1022    22.94 |\n",
              "  92 |     1011    22.69 |\n",
              "  93 |    999.9    22.44 |\n",
              "  94 |    999.6    22.44 |\n",
              "  95 |    991.1    22.25 |\n",
              "  96 |    987.4    22.16 |\n",
              "  97 |      980    22.00 |\n",
              "  98 |      972    21.82 |\n",
              "  99 |    969.3    21.76 |\n",
              " 100 |    981.6    22.03 |\n",
              "\n",
              "Call:\n",
              " randomForest(formula = LATITUDE ~ ., data = trainSet8, ntree = 100,      mtry = 2, do.trace = TRUE, trControl = fitControl, imporve = 0.05,      nodesize = 5) \n",
              "               Type of random forest: regression\n",
              "                     Number of trees: 100\n",
              "No. of variables tried at each split: 2\n",
              "\n",
              "          Mean of squared residuals: 981.6009\n",
              "                    % Var explained: 77.97\n"
            ]
          },
          "metadata": {
            "tags": []
          }
        }
      ]
    },
    {
      "cell_type": "markdown",
      "metadata": {
        "id": "9g0-pV0HnY3M",
        "colab_type": "text"
      },
      "source": [
        "**Testing Random Forest model on testSet**"
      ]
    },
    {
      "cell_type": "code",
      "metadata": {
        "id": "quVcqwQsnZpV",
        "colab_type": "code",
        "colab": {
          "base_uri": "https://localhost:8080/",
          "height": 52
        },
        "outputId": "b8ab02c0-8b40-4594-d6b5-109f77741346"
      },
      "source": [
        "%%R\n",
        "RF_Pred_latitude <- predict(RF_fit_latitude, newdata = testSet8)\n",
        "postResample(RF_Pred_latitude, testSet8$LATITUDE)"
      ],
      "execution_count": 97,
      "outputs": [
        {
          "output_type": "display_data",
          "data": {
            "text/plain": [
              "      RMSE   Rsquared        MAE \n",
              "31.5232179  0.9157688 24.0524292 \n"
            ]
          },
          "metadata": {
            "tags": []
          }
        }
      ]
    },
    {
      "cell_type": "markdown",
      "metadata": {
        "id": "5U8xmpNOndPh",
        "colab_type": "text"
      },
      "source": [
        "**Testing Random Forest model on validData_latitude**"
      ]
    },
    {
      "cell_type": "code",
      "metadata": {
        "id": "3kol5SYQnd93",
        "colab_type": "code",
        "colab": {
          "base_uri": "https://localhost:8080/",
          "height": 52
        },
        "outputId": "4cc0a827-5a41-4f9e-94a6-057056fbba67"
      },
      "source": [
        "%%R\n",
        "RF_Pred_latitude_val <- predict(RF_fit_latitude, newdata = validData_latitude)\n",
        "postResample(RF_Pred_latitude_val, validData_latitude$LATITUDE)"
      ],
      "execution_count": 98,
      "outputs": [
        {
          "output_type": "display_data",
          "data": {
            "text/plain": [
              "      RMSE   Rsquared        MAE \n",
              "37.1086009  0.9062632 29.8384152 \n"
            ]
          },
          "metadata": {
            "tags": []
          }
        }
      ]
    },
    {
      "cell_type": "markdown",
      "metadata": {
        "id": "xuJ-WzvpnlJu",
        "colab_type": "text"
      },
      "source": [
        "###Gradient Boost Trees Model on BUILDING"
      ]
    },
    {
      "cell_type": "code",
      "metadata": {
        "id": "t7SathtHnmUv",
        "colab_type": "code",
        "colab": {}
      },
      "source": [
        "%%R\n",
        "set.seed(123)\n",
        "trainData9 <- createDataPartition(y = trainData_building$BUILDINGID, p = 0.75, list = FALSE)\n",
        "trainSet9 <- trainData_building [trainData9,]\n",
        "testSet9 <- trainData_building [-trainData9,]"
      ],
      "execution_count": 0,
      "outputs": []
    },
    {
      "cell_type": "markdown",
      "metadata": {
        "id": "yDNvIqvjnvM5",
        "colab_type": "text"
      },
      "source": [
        "**Fit Control / Cross Validation / Gradient Boosting Trees**"
      ]
    },
    {
      "cell_type": "code",
      "metadata": {
        "id": "ynu1fWZ5nwUW",
        "colab_type": "code",
        "colab": {
          "base_uri": "https://localhost:8080/",
          "height": 1000
        },
        "outputId": "1f764454-d31a-4453-e33c-10a272af8e55"
      },
      "source": [
        "%%R\n",
        "fitControl <- trainControl(method = \"repeatedcv\", number = 5, repeats = 1)\n",
        "myGrid <- expand.grid(n.trees = c(250), \n",
        "                      interaction.depth = 1, \n",
        "                      shrinkage = c(0.1),\n",
        "                      n.minobsinnode = 20)\n",
        "\n",
        "GB_fit_building <- train((BUILDINGID ~ .), \n",
        "                         data = trainSet9, \n",
        "                         method = \"gbm\",\n",
        "                         trControl = fitControl,\n",
        "                         tuneGrid = myGrid)\n",
        "GB_fit_building"
      ],
      "execution_count": 100,
      "outputs": [
        {
          "output_type": "display_data",
          "data": {
            "text/plain": [
              "Iter   TrainDeviance   ValidDeviance   StepSize   Improve\n",
              "     1        1.0986            -nan     0.1000    0.1278\n",
              "     2        1.0088            -nan     0.1000    0.1149\n",
              "     3        0.9303            -nan     0.1000    0.0910\n",
              "     4        0.8689            -nan     0.1000    0.0849\n",
              "     5        0.8126            -nan     0.1000    0.0692\n",
              "     6        0.7665            -nan     0.1000    0.0640\n",
              "     7        0.7241            -nan     0.1000    0.0547\n",
              "     8        0.6871            -nan     0.1000    0.0522\n",
              "     9        0.6531            -nan     0.1000    0.0460\n",
              "    10        0.6226            -nan     0.1000    0.0432\n",
              "    20        0.4144            -nan     0.1000    0.0219\n",
              "    40        0.2289            -nan     0.1000    0.0091\n",
              "    60        0.1446            -nan     0.1000    0.0041\n",
              "    80        0.0987            -nan     0.1000    0.0025\n",
              "   100        0.0707            -nan     0.1000    0.0015\n",
              "   120        0.0527            -nan     0.1000    0.0007\n",
              "   140        0.0414            -nan     0.1000    0.0006\n",
              "   160        0.0327            -nan     0.1000    0.0005\n",
              "   180        0.0268            -nan     0.1000    0.0004\n",
              "   200        0.0222            -nan     0.1000    0.0004\n",
              "   220        0.0187            -nan     0.1000    0.0002\n",
              "   240        0.0159            -nan     0.1000    0.0001\n",
              "   250        0.0147            -nan     0.1000    0.0001\n",
              "\n",
              "Iter   TrainDeviance   ValidDeviance   StepSize   Improve\n",
              "     1        1.0986            -nan     0.1000    0.1297\n",
              "     2        1.0075            -nan     0.1000    0.1150\n",
              "     3        0.9292            -nan     0.1000    0.0933\n",
              "     4        0.8662            -nan     0.1000    0.0847\n",
              "     5        0.8099            -nan     0.1000    0.0688\n",
              "     6        0.7639            -nan     0.1000    0.0624\n",
              "     7        0.7217            -nan     0.1000    0.0575\n",
              "     8        0.6838            -nan     0.1000    0.0521\n",
              "     9        0.6491            -nan     0.1000    0.0468\n",
              "    10        0.6191            -nan     0.1000    0.0431\n",
              "    20        0.4097            -nan     0.1000    0.0213\n",
              "    40        0.2255            -nan     0.1000    0.0087\n",
              "    60        0.1414            -nan     0.1000    0.0045\n",
              "    80        0.0956            -nan     0.1000    0.0023\n",
              "   100        0.0677            -nan     0.1000    0.0015\n",
              "   120        0.0510            -nan     0.1000    0.0007\n",
              "   140        0.0392            -nan     0.1000    0.0005\n",
              "   160        0.0313            -nan     0.1000    0.0005\n",
              "   180        0.0256            -nan     0.1000    0.0003\n",
              "   200        0.0210            -nan     0.1000    0.0003\n",
              "   220        0.0176            -nan     0.1000    0.0002\n",
              "   240        0.0152            -nan     0.1000    0.0001\n",
              "   250        0.0140            -nan     0.1000    0.0002\n",
              "\n",
              "Iter   TrainDeviance   ValidDeviance   StepSize   Improve\n",
              "     1        1.0986            -nan     0.1000    0.1270\n",
              "     2        1.0083            -nan     0.1000    0.1151\n",
              "     3        0.9295            -nan     0.1000    0.0922\n",
              "     4        0.8670            -nan     0.1000    0.0857\n",
              "     5        0.8110            -nan     0.1000    0.0720\n",
              "     6        0.7634            -nan     0.1000    0.0654\n",
              "     7        0.7211            -nan     0.1000    0.0573\n",
              "     8        0.6835            -nan     0.1000    0.0511\n",
              "     9        0.6498            -nan     0.1000    0.0459\n",
              "    10        0.6193            -nan     0.1000    0.0440\n",
              "    20        0.4110            -nan     0.1000    0.0208\n",
              "    40        0.2269            -nan     0.1000    0.0086\n",
              "    60        0.1421            -nan     0.1000    0.0044\n",
              "    80        0.0966            -nan     0.1000    0.0025\n",
              "   100        0.0692            -nan     0.1000    0.0015\n",
              "   120        0.0514            -nan     0.1000    0.0010\n",
              "   140        0.0396            -nan     0.1000    0.0006\n",
              "   160        0.0316            -nan     0.1000    0.0004\n",
              "   180        0.0257            -nan     0.1000    0.0002\n",
              "   200        0.0213            -nan     0.1000    0.0002\n",
              "   220        0.0180            -nan     0.1000    0.0002\n",
              "   240        0.0153            -nan     0.1000    0.0001\n",
              "   250        0.0143            -nan     0.1000    0.0002\n",
              "\n",
              "Iter   TrainDeviance   ValidDeviance   StepSize   Improve\n",
              "     1        1.0986            -nan     0.1000    0.1296\n",
              "     2        1.0073            -nan     0.1000    0.1158\n",
              "     3        0.9273            -nan     0.1000    0.0919\n",
              "     4        0.8644            -nan     0.1000    0.0855\n",
              "     5        0.8090            -nan     0.1000    0.0695\n",
              "     6        0.7625            -nan     0.1000    0.0634\n",
              "     7        0.7205            -nan     0.1000    0.0540\n",
              "     8        0.6843            -nan     0.1000    0.0522\n",
              "     9        0.6500            -nan     0.1000    0.0452\n",
              "    10        0.6197            -nan     0.1000    0.0441\n",
              "    20        0.4099            -nan     0.1000    0.0203\n",
              "    40        0.2260            -nan     0.1000    0.0074\n",
              "    60        0.1417            -nan     0.1000    0.0046\n",
              "    80        0.0957            -nan     0.1000    0.0023\n",
              "   100        0.0682            -nan     0.1000    0.0017\n",
              "   120        0.0508            -nan     0.1000    0.0009\n",
              "   140        0.0395            -nan     0.1000    0.0006\n",
              "   160        0.0315            -nan     0.1000    0.0004\n",
              "   180        0.0257            -nan     0.1000    0.0004\n",
              "   200        0.0212            -nan     0.1000    0.0002\n",
              "   220        0.0178            -nan     0.1000    0.0001\n",
              "   240        0.0152            -nan     0.1000    0.0002\n",
              "   250        0.0141            -nan     0.1000    0.0002\n",
              "\n",
              "Iter   TrainDeviance   ValidDeviance   StepSize   Improve\n",
              "     1        1.0986            -nan     0.1000    0.1301\n",
              "     2        1.0070            -nan     0.1000    0.1174\n",
              "     3        0.9284            -nan     0.1000    0.0925\n",
              "     4        0.8665            -nan     0.1000    0.0835\n",
              "     5        0.8102            -nan     0.1000    0.0692\n",
              "     6        0.7631            -nan     0.1000    0.0637\n",
              "     7        0.7209            -nan     0.1000    0.0550\n",
              "     8        0.6843            -nan     0.1000    0.0523\n",
              "     9        0.6498            -nan     0.1000    0.0476\n",
              "    10        0.6189            -nan     0.1000    0.0420\n",
              "    20        0.4118            -nan     0.1000    0.0218\n",
              "    40        0.2259            -nan     0.1000    0.0078\n",
              "    60        0.1425            -nan     0.1000    0.0039\n",
              "    80        0.0973            -nan     0.1000    0.0022\n",
              "   100        0.0693            -nan     0.1000    0.0018\n",
              "   120        0.0519            -nan     0.1000    0.0010\n",
              "   140        0.0401            -nan     0.1000    0.0005\n",
              "   160        0.0319            -nan     0.1000    0.0005\n",
              "   180        0.0261            -nan     0.1000    0.0003\n",
              "   200        0.0218            -nan     0.1000    0.0003\n",
              "   220        0.0186            -nan     0.1000    0.0001\n",
              "   240        0.0158            -nan     0.1000    0.0001\n",
              "   250        0.0146            -nan     0.1000    0.0001\n",
              "\n",
              "Iter   TrainDeviance   ValidDeviance   StepSize   Improve\n",
              "     1        1.0986            -nan     0.1000    0.1275\n",
              "     2        1.0085            -nan     0.1000    0.1187\n",
              "     3        0.9292            -nan     0.1000    0.0909\n",
              "     4        0.8668            -nan     0.1000    0.0869\n",
              "     5        0.8109            -nan     0.1000    0.0692\n",
              "     6        0.7646            -nan     0.1000    0.0646\n",
              "     7        0.7220            -nan     0.1000    0.0561\n",
              "     8        0.6847            -nan     0.1000    0.0523\n",
              "     9        0.6506            -nan     0.1000    0.0473\n",
              "    10        0.6196            -nan     0.1000    0.0423\n",
              "    20        0.4126            -nan     0.1000    0.0212\n",
              "    40        0.2285            -nan     0.1000    0.0089\n",
              "    60        0.1427            -nan     0.1000    0.0047\n",
              "    80        0.0971            -nan     0.1000    0.0028\n",
              "   100        0.0690            -nan     0.1000    0.0014\n",
              "   120        0.0518            -nan     0.1000    0.0008\n",
              "   140        0.0403            -nan     0.1000    0.0007\n",
              "   160        0.0319            -nan     0.1000    0.0004\n",
              "   180        0.0260            -nan     0.1000    0.0004\n",
              "   200        0.0217            -nan     0.1000    0.0002\n",
              "   220        0.0184            -nan     0.1000    0.0002\n",
              "   240        0.0158            -nan     0.1000    0.0002\n",
              "   250        0.0146            -nan     0.1000    0.0001\n",
              "\n",
              "Stochastic Gradient Boosting \n",
              "\n",
              "14953 samples\n",
              "  520 predictor\n",
              "    3 classes: '0', '1', '2' \n",
              "\n",
              "No pre-processing\n",
              "Resampling: Cross-Validated (5 fold, repeated 1 times) \n",
              "Summary of sample sizes: 11962, 11962, 11963, 11962, 11963 \n",
              "Resampling results:\n",
              "\n",
              "  Accuracy   Kappa    \n",
              "  0.9980606  0.9969527\n",
              "\n",
              "Tuning parameter 'n.trees' was held constant at a value of 250\n",
              "Tuning\n",
              "\n",
              "Tuning parameter 'shrinkage' was held constant at a value of 0.1\n",
              "\n",
              "Tuning parameter 'n.minobsinnode' was held constant at a value of 20\n"
            ]
          },
          "metadata": {
            "tags": []
          }
        }
      ]
    },
    {
      "cell_type": "markdown",
      "metadata": {
        "id": "IsXfOSHIpli9",
        "colab_type": "text"
      },
      "source": [
        "**Testing Gradient Boosting Trees model on testSet9**"
      ]
    },
    {
      "cell_type": "code",
      "metadata": {
        "id": "XMRVC5T9pme9",
        "colab_type": "code",
        "colab": {
          "base_uri": "https://localhost:8080/",
          "height": 538
        },
        "outputId": "f3d397ee-6f27-4185-f6ff-d6d411f12069"
      },
      "source": [
        "%%R\n",
        "GB_Pred_building <- predict(GB_fit_building, newdata = testSet9)\n",
        "GB_CM_building <- confusionMatrix(GB_Pred_building, testSet9$BUILDINGID)\n",
        "GB_CM_building"
      ],
      "execution_count": 101,
      "outputs": [
        {
          "output_type": "display_data",
          "data": {
            "text/plain": [
              "Confusion Matrix and Statistics\n",
              "\n",
              "          Reference\n",
              "Prediction    0    1    2\n",
              "         0 1312    0    0\n",
              "         1    0 1299   12\n",
              "         2    0    0 2361\n",
              "\n",
              "Overall Statistics\n",
              "                                          \n",
              "               Accuracy : 0.9976          \n",
              "                 95% CI : (0.9958, 0.9988)\n",
              "    No Information Rate : 0.4761          \n",
              "    P-Value [Acc > NIR] : < 2.2e-16       \n",
              "                                          \n",
              "                  Kappa : 0.9962          \n",
              "                                          \n",
              " Mcnemar's Test P-Value : NA              \n",
              "\n",
              "Statistics by Class:\n",
              "\n",
              "                     Class: 0 Class: 1 Class: 2\n",
              "Sensitivity            1.0000   1.0000   0.9949\n",
              "Specificity            1.0000   0.9967   1.0000\n",
              "Pos Pred Value         1.0000   0.9908   1.0000\n",
              "Neg Pred Value         1.0000   1.0000   0.9954\n",
              "Prevalence             0.2632   0.2606   0.4761\n",
              "Detection Rate         0.2632   0.2606   0.4737\n",
              "Detection Prevalence   0.2632   0.2630   0.4737\n",
              "Balanced Accuracy      1.0000   0.9984   0.9975\n"
            ]
          },
          "metadata": {
            "tags": []
          }
        }
      ]
    },
    {
      "cell_type": "markdown",
      "metadata": {
        "id": "RpmDLERJptZ0",
        "colab_type": "text"
      },
      "source": [
        "**Testing Gradient Boosting Trees model on validData_building**"
      ]
    },
    {
      "cell_type": "code",
      "metadata": {
        "id": "pti4myOepuXQ",
        "colab_type": "code",
        "colab": {
          "base_uri": "https://localhost:8080/",
          "height": 538
        },
        "outputId": "9c8d8014-547b-4ec1-e5c8-268a14039b8d"
      },
      "source": [
        "%%R\n",
        "GB_Pred_building_val <- predict(GB_fit_building, newdata = validData_building)\n",
        "GB_CM_building_val <- confusionMatrix(GB_Pred_building_val, validData_building$BUILDINGID)\n",
        "GB_CM_building_val"
      ],
      "execution_count": 102,
      "outputs": [
        {
          "output_type": "display_data",
          "data": {
            "text/plain": [
              "Confusion Matrix and Statistics\n",
              "\n",
              "          Reference\n",
              "Prediction   0   1   2\n",
              "         0 534   1   0\n",
              "         1   2 306   0\n",
              "         2   0   0 268\n",
              "\n",
              "Overall Statistics\n",
              "                                          \n",
              "               Accuracy : 0.9973          \n",
              "                 95% CI : (0.9921, 0.9994)\n",
              "    No Information Rate : 0.4824          \n",
              "    P-Value [Acc > NIR] : < 2.2e-16       \n",
              "                                          \n",
              "                  Kappa : 0.9957          \n",
              "                                          \n",
              " Mcnemar's Test P-Value : NA              \n",
              "\n",
              "Statistics by Class:\n",
              "\n",
              "                     Class: 0 Class: 1 Class: 2\n",
              "Sensitivity            0.9963   0.9967   1.0000\n",
              "Specificity            0.9983   0.9975   1.0000\n",
              "Pos Pred Value         0.9981   0.9935   1.0000\n",
              "Neg Pred Value         0.9965   0.9988   1.0000\n",
              "Prevalence             0.4824   0.2763   0.2412\n",
              "Detection Rate         0.4806   0.2754   0.2412\n",
              "Detection Prevalence   0.4815   0.2772   0.2412\n",
              "Balanced Accuracy      0.9973   0.9971   1.0000\n"
            ]
          },
          "metadata": {
            "tags": []
          }
        }
      ]
    },
    {
      "cell_type": "markdown",
      "metadata": {
        "id": "JqhIMk0Ap3HC",
        "colab_type": "text"
      },
      "source": [
        "###radient Boost Trees Model on FLOOR"
      ]
    },
    {
      "cell_type": "code",
      "metadata": {
        "id": "LEbpLeGWp4Yj",
        "colab_type": "code",
        "colab": {}
      },
      "source": [
        "%%R\n",
        "set.seed(123)\n",
        "trainData10 <- createDataPartition(y = trainData_floor$FLOOR, p = 0.75, list = FALSE)\n",
        "trainSet10 <- trainData_floor [trainData10,]\n",
        "testSet10 <- trainData_floor [-trainData10,]"
      ],
      "execution_count": 0,
      "outputs": []
    },
    {
      "cell_type": "markdown",
      "metadata": {
        "id": "T6HPBFitqEkx",
        "colab_type": "text"
      },
      "source": [
        "**Fit Control / Cross Validation / Gradient Boosting Trees model**"
      ]
    },
    {
      "cell_type": "code",
      "metadata": {
        "id": "YkykBHPCqFf9",
        "colab_type": "code",
        "colab": {
          "base_uri": "https://localhost:8080/",
          "height": 1000
        },
        "outputId": "3c4b2d19-8875-4b39-946f-54f2648170f8"
      },
      "source": [
        "%%R\n",
        "fitControl <- trainControl(method = \"repeatedcv\", number = 5, repeats = 1)\n",
        "myGrid <- expand.grid(n.trees = c(250), \n",
        "                      interaction.depth = 1, \n",
        "                      shrinkage = c(0.1),\n",
        "                      n.minobsinnode = 20)\n",
        "\n",
        "GB_fit_floor <- train((FLOOR ~ .), \n",
        "                      data = trainSet10, \n",
        "                      method = \"gbm\",\n",
        "                      trControl = fitControl,\n",
        "                      tuneGrid = myGrid)\n",
        "GB_fit_floor"
      ],
      "execution_count": 104,
      "outputs": [
        {
          "output_type": "display_data",
          "data": {
            "text/plain": [
              "Iter   TrainDeviance   ValidDeviance   StepSize   Improve\n",
              "     1        1.6094            -nan     0.1000    0.0825\n",
              "     2        1.5527            -nan     0.1000    0.0705\n",
              "     3        1.5051            -nan     0.1000    0.0567\n",
              "     4        1.4662            -nan     0.1000    0.0599\n",
              "     5        1.4281            -nan     0.1000    0.0450\n",
              "     6        1.3970            -nan     0.1000    0.0410\n",
              "     7        1.3694            -nan     0.1000    0.0384\n",
              "     8        1.3438            -nan     0.1000    0.0339\n",
              "     9        1.3203            -nan     0.1000    0.0358\n",
              "    10        1.2972            -nan     0.1000    0.0290\n",
              "    20        1.1432            -nan     0.1000    0.0170\n",
              "    40        0.9689            -nan     0.1000    0.0087\n",
              "    60        0.8645            -nan     0.1000    0.0062\n",
              "    80        0.7871            -nan     0.1000    0.0048\n",
              "   100        0.7267            -nan     0.1000    0.0032\n",
              "   120        0.6757            -nan     0.1000    0.0020\n",
              "   140        0.6326            -nan     0.1000    0.0020\n",
              "   160        0.5968            -nan     0.1000    0.0022\n",
              "   180        0.5644            -nan     0.1000    0.0023\n",
              "   200        0.5364            -nan     0.1000    0.0017\n",
              "   220        0.5114            -nan     0.1000    0.0014\n",
              "   240        0.4874            -nan     0.1000    0.0019\n",
              "   250        0.4756            -nan     0.1000    0.0014\n",
              "\n",
              "Iter   TrainDeviance   ValidDeviance   StepSize   Improve\n",
              "     1        1.6094            -nan     0.1000    0.0850\n",
              "     2        1.5515            -nan     0.1000    0.0696\n",
              "     3        1.5028            -nan     0.1000    0.0547\n",
              "     4        1.4650            -nan     0.1000    0.0521\n",
              "     5        1.4284            -nan     0.1000    0.0520\n",
              "     6        1.3950            -nan     0.1000    0.0424\n",
              "     7        1.3669            -nan     0.1000    0.0372\n",
              "     8        1.3416            -nan     0.1000    0.0358\n",
              "     9        1.3174            -nan     0.1000    0.0340\n",
              "    10        1.2956            -nan     0.1000    0.0301\n",
              "    20        1.1405            -nan     0.1000    0.0150\n",
              "    40        0.9699            -nan     0.1000    0.0093\n",
              "    60        0.8653            -nan     0.1000    0.0074\n",
              "    80        0.7883            -nan     0.1000    0.0047\n",
              "   100        0.7256            -nan     0.1000    0.0032\n",
              "   120        0.6759            -nan     0.1000    0.0032\n",
              "   140        0.6337            -nan     0.1000    0.0024\n",
              "   160        0.5978            -nan     0.1000    0.0021\n",
              "   180        0.5644            -nan     0.1000    0.0015\n",
              "   200        0.5356            -nan     0.1000    0.0016\n",
              "   220        0.5105            -nan     0.1000    0.0015\n",
              "   240        0.4878            -nan     0.1000    0.0012\n",
              "   250        0.4773            -nan     0.1000    0.0025\n",
              "\n",
              "Iter   TrainDeviance   ValidDeviance   StepSize   Improve\n",
              "     1        1.6094            -nan     0.1000    0.0850\n",
              "     2        1.5511            -nan     0.1000    0.0705\n",
              "     3        1.5032            -nan     0.1000    0.0611\n",
              "     4        1.4618            -nan     0.1000    0.0497\n",
              "     5        1.4272            -nan     0.1000    0.0463\n",
              "     6        1.3972            -nan     0.1000    0.0447\n",
              "     7        1.3673            -nan     0.1000    0.0383\n",
              "     8        1.3420            -nan     0.1000    0.0345\n",
              "     9        1.3184            -nan     0.1000    0.0318\n",
              "    10        1.2975            -nan     0.1000    0.0327\n",
              "    20        1.1421            -nan     0.1000    0.0176\n",
              "    40        0.9665            -nan     0.1000    0.0092\n",
              "    60        0.8613            -nan     0.1000    0.0075\n",
              "    80        0.7878            -nan     0.1000    0.0032\n",
              "   100        0.7255            -nan     0.1000    0.0049\n",
              "   120        0.6753            -nan     0.1000    0.0028\n",
              "   140        0.6336            -nan     0.1000    0.0024\n",
              "   160        0.5966            -nan     0.1000    0.0018\n",
              "   180        0.5647            -nan     0.1000    0.0015\n",
              "   200        0.5362            -nan     0.1000    0.0021\n",
              "   220        0.5110            -nan     0.1000    0.0009\n",
              "   240        0.4872            -nan     0.1000    0.0016\n",
              "   250        0.4761            -nan     0.1000    0.0017\n",
              "\n",
              "Iter   TrainDeviance   ValidDeviance   StepSize   Improve\n",
              "     1        1.6094            -nan     0.1000    0.0860\n",
              "     2        1.5510            -nan     0.1000    0.0711\n",
              "     3        1.5026            -nan     0.1000    0.0597\n",
              "     4        1.4618            -nan     0.1000    0.0529\n",
              "     5        1.4266            -nan     0.1000    0.0473\n",
              "     6        1.3946            -nan     0.1000    0.0409\n",
              "     7        1.3679            -nan     0.1000    0.0364\n",
              "     8        1.3425            -nan     0.1000    0.0340\n",
              "     9        1.3192            -nan     0.1000    0.0353\n",
              "    10        1.2960            -nan     0.1000    0.0301\n",
              "    20        1.1421            -nan     0.1000    0.0151\n",
              "    40        0.9701            -nan     0.1000    0.0103\n",
              "    60        0.8657            -nan     0.1000    0.0078\n",
              "    80        0.7895            -nan     0.1000    0.0047\n",
              "   100        0.7288            -nan     0.1000    0.0049\n",
              "   120        0.6792            -nan     0.1000    0.0030\n",
              "   140        0.6382            -nan     0.1000    0.0036\n",
              "   160        0.6006            -nan     0.1000    0.0020\n",
              "   180        0.5676            -nan     0.1000    0.0025\n",
              "   200        0.5388            -nan     0.1000    0.0013\n",
              "   220        0.5133            -nan     0.1000    0.0008\n",
              "   240        0.4893            -nan     0.1000    0.0013\n",
              "   250        0.4786            -nan     0.1000    0.0016\n",
              "\n",
              "Iter   TrainDeviance   ValidDeviance   StepSize   Improve\n",
              "     1        1.6094            -nan     0.1000    0.0842\n",
              "     2        1.5508            -nan     0.1000    0.0702\n",
              "     3        1.5034            -nan     0.1000    0.0574\n",
              "     4        1.4642            -nan     0.1000    0.0546\n",
              "     5        1.4277            -nan     0.1000    0.0452\n",
              "     6        1.3974            -nan     0.1000    0.0420\n",
              "     7        1.3693            -nan     0.1000    0.0375\n",
              "     8        1.3437            -nan     0.1000    0.0374\n",
              "     9        1.3187            -nan     0.1000    0.0332\n",
              "    10        1.2970            -nan     0.1000    0.0300\n",
              "    20        1.1423            -nan     0.1000    0.0168\n",
              "    40        0.9698            -nan     0.1000    0.0095\n",
              "    60        0.8691            -nan     0.1000    0.0063\n",
              "    80        0.7940            -nan     0.1000    0.0042\n",
              "   100        0.7315            -nan     0.1000    0.0031\n",
              "   120        0.6786            -nan     0.1000    0.0031\n",
              "   140        0.6356            -nan     0.1000    0.0025\n",
              "   160        0.6000            -nan     0.1000    0.0018\n",
              "   180        0.5686            -nan     0.1000    0.0019\n",
              "   200        0.5397            -nan     0.1000    0.0015\n",
              "   220        0.5133            -nan     0.1000    0.0017\n",
              "   240        0.4896            -nan     0.1000    0.0006\n",
              "   250        0.4796            -nan     0.1000    0.0008\n",
              "\n",
              "Iter   TrainDeviance   ValidDeviance   StepSize   Improve\n",
              "     1        1.6094            -nan     0.1000    0.0875\n",
              "     2        1.5509            -nan     0.1000    0.0655\n",
              "     3        1.5059            -nan     0.1000    0.0582\n",
              "     4        1.4655            -nan     0.1000    0.0551\n",
              "     5        1.4286            -nan     0.1000    0.0499\n",
              "     6        1.3964            -nan     0.1000    0.0429\n",
              "     7        1.3686            -nan     0.1000    0.0361\n",
              "     8        1.3441            -nan     0.1000    0.0346\n",
              "     9        1.3216            -nan     0.1000    0.0327\n",
              "    10        1.2996            -nan     0.1000    0.0297\n",
              "    20        1.1445            -nan     0.1000    0.0189\n",
              "    40        0.9735            -nan     0.1000    0.0103\n",
              "    60        0.8667            -nan     0.1000    0.0063\n",
              "    80        0.7911            -nan     0.1000    0.0048\n",
              "   100        0.7314            -nan     0.1000    0.0035\n",
              "   120        0.6820            -nan     0.1000    0.0022\n",
              "   140        0.6383            -nan     0.1000    0.0032\n",
              "   160        0.6021            -nan     0.1000    0.0028\n",
              "   180        0.5692            -nan     0.1000    0.0016\n",
              "   200        0.5408            -nan     0.1000    0.0013\n",
              "   220        0.5160            -nan     0.1000    0.0011\n",
              "   240        0.4933            -nan     0.1000    0.0024\n",
              "   250        0.4812            -nan     0.1000    0.0012\n",
              "\n",
              "Stochastic Gradient Boosting \n",
              "\n",
              "14954 samples\n",
              "  520 predictor\n",
              "    5 classes: '0', '1', '2', '3', '4' \n",
              "\n",
              "No pre-processing\n",
              "Resampling: Cross-Validated (5 fold, repeated 1 times) \n",
              "Summary of sample sizes: 11962, 11965, 11963, 11962, 11964 \n",
              "Resampling results:\n",
              "\n",
              "  Accuracy   Kappa    \n",
              "  0.8918693  0.8599906\n",
              "\n",
              "Tuning parameter 'n.trees' was held constant at a value of 250\n",
              "Tuning\n",
              "\n",
              "Tuning parameter 'shrinkage' was held constant at a value of 0.1\n",
              "\n",
              "Tuning parameter 'n.minobsinnode' was held constant at a value of 20\n"
            ]
          },
          "metadata": {
            "tags": []
          }
        }
      ]
    },
    {
      "cell_type": "markdown",
      "metadata": {
        "id": "sj1DTV-6snUa",
        "colab_type": "text"
      },
      "source": [
        "**Testing Gradient Boosting Trees model on testSet10**"
      ]
    },
    {
      "cell_type": "code",
      "metadata": {
        "id": "HoUwQCcOsoPF",
        "colab_type": "code",
        "colab": {
          "base_uri": "https://localhost:8080/",
          "height": 573
        },
        "outputId": "7ac1f012-eb34-4c4f-d6c6-64073ada862b"
      },
      "source": [
        "%%R\n",
        "GB_Pred_floor <- predict(GB_fit_floor, newdata = testSet10)\n",
        "GB_CM_floor <- confusionMatrix(GB_Pred_floor, testSet10$FLOOR)\n",
        "GB_CM_floor"
      ],
      "execution_count": 105,
      "outputs": [
        {
          "output_type": "display_data",
          "data": {
            "text/plain": [
              "Confusion Matrix and Statistics\n",
              "\n",
              "          Reference\n",
              "Prediction    0    1    2    3    4\n",
              "         0  995   82    2    1    0\n",
              "         1   83 1103   61    7    0\n",
              "         2    4   57  910   95    0\n",
              "         3   10    8  131 1158    8\n",
              "         4    0    0    0    1  267\n",
              "\n",
              "Overall Statistics\n",
              "                                          \n",
              "               Accuracy : 0.8896          \n",
              "                 95% CI : (0.8806, 0.8982)\n",
              "    No Information Rate : 0.2533          \n",
              "    P-Value [Acc > NIR] : < 2.2e-16       \n",
              "                                          \n",
              "                  Kappa : 0.8571          \n",
              "                                          \n",
              " Mcnemar's Test P-Value : NA              \n",
              "\n",
              "Statistics by Class:\n",
              "\n",
              "                     Class: 0 Class: 1 Class: 2 Class: 3 Class: 4\n",
              "Sensitivity            0.9112   0.8824   0.8243   0.9176  0.97091\n",
              "Specificity            0.9782   0.9595   0.9598   0.9578  0.99979\n",
              "Pos Pred Value         0.9213   0.8796   0.8537   0.8806  0.99627\n",
              "Neg Pred Value         0.9751   0.9606   0.9505   0.9716  0.99830\n",
              "Prevalence             0.2191   0.2509   0.2216   0.2533  0.05519\n",
              "Detection Rate         0.1997   0.2214   0.1826   0.2324  0.05358\n",
              "Detection Prevalence   0.2167   0.2517   0.2139   0.2639  0.05378\n",
              "Balanced Accuracy      0.9447   0.9210   0.8920   0.9377  0.98535\n"
            ]
          },
          "metadata": {
            "tags": []
          }
        }
      ]
    },
    {
      "cell_type": "markdown",
      "metadata": {
        "id": "aMWfGwQIssbO",
        "colab_type": "text"
      },
      "source": [
        "**Testing Gradient Boost Trees model on validData_floor**"
      ]
    },
    {
      "cell_type": "code",
      "metadata": {
        "id": "wM7Z8qlNstH6",
        "colab_type": "code",
        "colab": {
          "base_uri": "https://localhost:8080/",
          "height": 573
        },
        "outputId": "df15b4ae-c316-4590-db21-893ab9a8e6af"
      },
      "source": [
        "%%R\n",
        "GB_Pred_floor_val <- predict(GB_fit_floor, newdata = validData_floor)\n",
        "GB_CM_floor_val <- confusionMatrix(GB_Pred_floor_val, validData_floor$FLOOR)\n",
        "GB_CM_floor_val"
      ],
      "execution_count": 106,
      "outputs": [
        {
          "output_type": "display_data",
          "data": {
            "text/plain": [
              "Confusion Matrix and Statistics\n",
              "\n",
              "          Reference\n",
              "Prediction   0   1   2   3   4\n",
              "         0 108  32   1   0   1\n",
              "         1  14 336  22   2   0\n",
              "         2   4  73 202  18   0\n",
              "         3   6  21  81 150  19\n",
              "         4   0   0   0   2  19\n",
              "\n",
              "Overall Statistics\n",
              "                                          \n",
              "               Accuracy : 0.7336          \n",
              "                 95% CI : (0.7065, 0.7594)\n",
              "    No Information Rate : 0.4158          \n",
              "    P-Value [Acc > NIR] : < 2.2e-16       \n",
              "                                          \n",
              "                  Kappa : 0.636           \n",
              "                                          \n",
              " Mcnemar's Test P-Value : NA              \n",
              "\n",
              "Statistics by Class:\n",
              "\n",
              "                     Class: 0 Class: 1 Class: 2 Class: 3 Class: 4\n",
              "Sensitivity           0.81818   0.7273   0.6601   0.8721   0.4872\n",
              "Specificity           0.96527   0.9414   0.8820   0.8647   0.9981\n",
              "Pos Pred Value        0.76056   0.8984   0.6801   0.5415   0.9048\n",
              "Neg Pred Value        0.97523   0.8290   0.8722   0.9736   0.9817\n",
              "Prevalence            0.11881   0.4158   0.2754   0.1548   0.0351\n",
              "Detection Rate        0.09721   0.3024   0.1818   0.1350   0.0171\n",
              "Detection Prevalence  0.12781   0.3366   0.2673   0.2493   0.0189\n",
              "Balanced Accuracy     0.89173   0.8344   0.7711   0.8684   0.7427\n"
            ]
          },
          "metadata": {
            "tags": []
          }
        }
      ]
    },
    {
      "cell_type": "markdown",
      "metadata": {
        "id": "M9TlTBAos2m1",
        "colab_type": "text"
      },
      "source": [
        "###Gradient Boosting Trees Model on LONGITUDE"
      ]
    },
    {
      "cell_type": "code",
      "metadata": {
        "id": "e4srKjlTs3qI",
        "colab_type": "code",
        "colab": {}
      },
      "source": [
        "%%R\n",
        "set.seed(123)\n",
        "trainData11 <- createDataPartition(y = trainData_longitude$LONGITUDE, p = 0.75, list = FALSE)\n",
        "trainSet11 <- trainData_longitude [trainData11,]\n",
        "testSet11 <- trainData_longitude [-trainData11,]"
      ],
      "execution_count": 0,
      "outputs": []
    },
    {
      "cell_type": "markdown",
      "metadata": {
        "id": "8oOU5unSs8WC",
        "colab_type": "text"
      },
      "source": [
        "**Fit Control / Cross Validation / Gradient Boosting Trees model**"
      ]
    },
    {
      "cell_type": "code",
      "metadata": {
        "id": "n3sfgP7rs8_G",
        "colab_type": "code",
        "colab": {
          "base_uri": "https://localhost:8080/",
          "height": 1000
        },
        "outputId": "3a7fd054-f5ff-4c7b-9c4c-e009c8d44a17"
      },
      "source": [
        "%%R\n",
        "fitControl <- trainControl(method = \"repeatedcv\", number = 5, repeats = 1)\n",
        "myGrid <- expand.grid(n.trees = c(250), \n",
        "                      interaction.depth = 1, \n",
        "                      shrinkage = c(0.1),\n",
        "                      n.minobsinnode = 20)\n",
        "\n",
        "GB_fit_longitude <- train((LONGITUDE ~ .), \n",
        "                          data = trainSet11, \n",
        "                          method = \"gbm\",\n",
        "                          trControl = fitControl,\n",
        "                          tuneGrid = myGrid)\n",
        "\n",
        "GB_fit_longitude"
      ],
      "execution_count": 108,
      "outputs": [
        {
          "output_type": "display_data",
          "data": {
            "text/plain": [
              "Iter   TrainDeviance   ValidDeviance   StepSize   Improve\n",
              "     1    14326.9068            -nan     0.1000  910.6689\n",
              "     2    13594.2799            -nan     0.1000  731.1139\n",
              "     3    12900.0698            -nan     0.1000  694.6637\n",
              "     4    12312.5212            -nan     0.1000  584.4628\n",
              "     5    11752.0569            -nan     0.1000  553.1960\n",
              "     6    11208.0325            -nan     0.1000  525.5582\n",
              "     7    10728.7305            -nan     0.1000  467.6907\n",
              "     8    10291.3228            -nan     0.1000  419.2620\n",
              "     9     9850.9217            -nan     0.1000  423.8261\n",
              "    10     9435.3835            -nan     0.1000  407.1524\n",
              "    20     6591.8938            -nan     0.1000  216.3081\n",
              "    40     3998.7307            -nan     0.1000   77.9421\n",
              "    60     2893.4980            -nan     0.1000   38.9640\n",
              "    80     2304.2296            -nan     0.1000   22.4550\n",
              "   100     1953.7334            -nan     0.1000   15.0984\n",
              "   120     1729.0242            -nan     0.1000    8.6093\n",
              "   140     1570.8807            -nan     0.1000    6.1446\n",
              "   160     1456.1166            -nan     0.1000    4.5071\n",
              "   180     1370.0514            -nan     0.1000    2.9041\n",
              "   200     1304.5161            -nan     0.1000    2.3866\n",
              "   220     1253.7636            -nan     0.1000    1.2593\n",
              "   240     1209.3774            -nan     0.1000    1.8106\n",
              "   250     1190.0839            -nan     0.1000    0.8217\n",
              "\n",
              "Iter   TrainDeviance   ValidDeviance   StepSize   Improve\n",
              "     1    14326.5005            -nan     0.1000  886.7165\n",
              "     2    13573.4394            -nan     0.1000  770.3966\n",
              "     3    12890.6132            -nan     0.1000  684.5478\n",
              "     4    12312.0399            -nan     0.1000  570.0782\n",
              "     5    11754.9352            -nan     0.1000  544.5414\n",
              "     6    11200.9739            -nan     0.1000  552.1669\n",
              "     7    10727.0975            -nan     0.1000  473.4926\n",
              "     8    10280.9983            -nan     0.1000  446.6311\n",
              "     9     9849.0986            -nan     0.1000  426.6341\n",
              "    10     9430.6495            -nan     0.1000  426.4586\n",
              "    20     6575.3678            -nan     0.1000  219.9143\n",
              "    40     4007.3519            -nan     0.1000   72.6106\n",
              "    60     2913.4288            -nan     0.1000   37.3508\n",
              "    80     2321.6729            -nan     0.1000   21.5834\n",
              "   100     1961.9114            -nan     0.1000   12.5592\n",
              "   120     1734.1745            -nan     0.1000    9.1395\n",
              "   140     1576.0659            -nan     0.1000    6.0048\n",
              "   160     1460.9662            -nan     0.1000    3.8969\n",
              "   180     1372.2144            -nan     0.1000    3.5978\n",
              "   200     1305.5135            -nan     0.1000    2.6665\n",
              "   220     1251.9608            -nan     0.1000    1.2802\n",
              "   240     1208.0504            -nan     0.1000    1.5965\n",
              "   250     1189.9860            -nan     0.1000    1.9477\n",
              "\n",
              "Iter   TrainDeviance   ValidDeviance   StepSize   Improve\n",
              "     1    14335.6108            -nan     0.1000  902.0839\n",
              "     2    13605.6117            -nan     0.1000  726.5616\n",
              "     3    12889.5327            -nan     0.1000  692.6504\n",
              "     4    12296.6142            -nan     0.1000  595.0594\n",
              "     5    11720.9953            -nan     0.1000  561.0063\n",
              "     6    11176.9012            -nan     0.1000  530.4372\n",
              "     7    10701.0835            -nan     0.1000  468.5532\n",
              "     8    10251.3164            -nan     0.1000  437.3421\n",
              "     9     9827.7545            -nan     0.1000  416.9615\n",
              "    10     9406.2981            -nan     0.1000  428.8507\n",
              "    20     6555.0227            -nan     0.1000  205.9174\n",
              "    40     3990.3307            -nan     0.1000   72.0680\n",
              "    60     2888.3896            -nan     0.1000   33.1964\n",
              "    80     2299.3808            -nan     0.1000   20.3503\n",
              "   100     1945.6000            -nan     0.1000   10.8978\n",
              "   120     1719.1380            -nan     0.1000    6.1374\n",
              "   140     1560.4374            -nan     0.1000    5.7469\n",
              "   160     1446.2241            -nan     0.1000    3.9814\n",
              "   180     1358.9865            -nan     0.1000    3.6081\n",
              "   200     1291.2673            -nan     0.1000    2.0490\n",
              "   220     1238.8347            -nan     0.1000    2.0132\n",
              "   240     1193.8320            -nan     0.1000    1.5312\n",
              "   250     1173.9984            -nan     0.1000    0.7137\n",
              "\n",
              "Iter   TrainDeviance   ValidDeviance   StepSize   Improve\n",
              "     1    14304.9149            -nan     0.1000  877.6545\n",
              "     2    13567.4632            -nan     0.1000  726.4273\n",
              "     3    12887.4773            -nan     0.1000  685.5181\n",
              "     4    12312.0448            -nan     0.1000  556.5294\n",
              "     5    11721.0800            -nan     0.1000  599.9824\n",
              "     6    11187.6963            -nan     0.1000  521.5944\n",
              "     7    10727.7920            -nan     0.1000  444.7760\n",
              "     8    10282.7145            -nan     0.1000  426.2993\n",
              "     9     9856.4200            -nan     0.1000  413.6644\n",
              "    10     9448.5571            -nan     0.1000  402.0427\n",
              "    20     6598.3630            -nan     0.1000  220.6384\n",
              "    40     4026.6585            -nan     0.1000   78.8123\n",
              "    60     2920.4772            -nan     0.1000   38.3786\n",
              "    80     2321.9769            -nan     0.1000   23.5936\n",
              "   100     1966.8100            -nan     0.1000   13.9825\n",
              "   120     1741.5307            -nan     0.1000    8.5733\n",
              "   140     1581.0779            -nan     0.1000    6.6676\n",
              "   160     1467.6010            -nan     0.1000    4.3388\n",
              "   180     1376.9635            -nan     0.1000    2.5178\n",
              "   200     1306.4088            -nan     0.1000    2.4265\n",
              "   220     1251.9461            -nan     0.1000    1.5630\n",
              "   240     1208.1011            -nan     0.1000    0.7515\n",
              "   250     1187.3105            -nan     0.1000    1.0574\n",
              "\n",
              "Iter   TrainDeviance   ValidDeviance   StepSize   Improve\n",
              "     1    14363.1716            -nan     0.1000  907.0377\n",
              "     2    13620.6967            -nan     0.1000  744.1592\n",
              "     3    12940.6519            -nan     0.1000  692.8030\n",
              "     4    12372.8742            -nan     0.1000  583.1799\n",
              "     5    11796.4781            -nan     0.1000  552.6837\n",
              "     6    11279.3486            -nan     0.1000  509.8281\n",
              "     7    10817.1377            -nan     0.1000  451.2227\n",
              "     8    10346.0398            -nan     0.1000  465.4828\n",
              "     9     9899.2631            -nan     0.1000  426.2057\n",
              "    10     9490.7510            -nan     0.1000  409.5790\n",
              "    20     6624.9867            -nan     0.1000  213.1715\n",
              "    40     4032.2934            -nan     0.1000   68.8587\n",
              "    60     2931.8860            -nan     0.1000   37.5637\n",
              "    80     2332.1097            -nan     0.1000   21.5601\n",
              "   100     1972.2841            -nan     0.1000   13.6272\n",
              "   120     1742.3995            -nan     0.1000    9.0417\n",
              "   140     1584.3634            -nan     0.1000    6.2226\n",
              "   160     1467.2426            -nan     0.1000    4.8666\n",
              "   180     1382.2372            -nan     0.1000    3.1490\n",
              "   200     1314.0825            -nan     0.1000    2.0348\n",
              "   220     1260.2177            -nan     0.1000    1.3843\n",
              "   240     1214.5832            -nan     0.1000    1.0681\n",
              "   250     1195.2020            -nan     0.1000    0.7411\n",
              "\n",
              "Iter   TrainDeviance   ValidDeviance   StepSize   Improve\n",
              "     1    14335.1400            -nan     0.1000  908.8373\n",
              "     2    13595.9958            -nan     0.1000  733.3782\n",
              "     3    12915.0371            -nan     0.1000  688.7245\n",
              "     4    12323.5376            -nan     0.1000  596.7356\n",
              "     5    11741.1106            -nan     0.1000  561.7306\n",
              "     6    11205.0044            -nan     0.1000  544.8715\n",
              "     7    10730.1283            -nan     0.1000  474.4981\n",
              "     8    10282.8394            -nan     0.1000  441.5034\n",
              "     9     9859.2754            -nan     0.1000  421.5438\n",
              "    10     9437.1826            -nan     0.1000  404.1977\n",
              "    20     6597.4258            -nan     0.1000  225.2409\n",
              "    40     4014.4413            -nan     0.1000   73.5340\n",
              "    60     2912.8456            -nan     0.1000   36.2912\n",
              "    80     2317.7002            -nan     0.1000   22.8386\n",
              "   100     1960.0454            -nan     0.1000   12.8515\n",
              "   120     1731.2938            -nan     0.1000    9.0637\n",
              "   140     1573.0016            -nan     0.1000    4.6494\n",
              "   160     1456.0009            -nan     0.1000    5.3952\n",
              "   180     1366.9881            -nan     0.1000    3.6086\n",
              "   200     1298.5004            -nan     0.1000    2.1574\n",
              "   220     1244.2820            -nan     0.1000    2.4906\n",
              "   240     1200.3227            -nan     0.1000    1.2439\n",
              "   250     1181.6154            -nan     0.1000    1.5793\n",
              "\n",
              "Stochastic Gradient Boosting \n",
              "\n",
              "14955 samples\n",
              "  520 predictor\n",
              "\n",
              "No pre-processing\n",
              "Resampling: Cross-Validated (5 fold, repeated 1 times) \n",
              "Summary of sample sizes: 11963, 11965, 11964, 11963, 11965 \n",
              "Resampling results:\n",
              "\n",
              "  RMSE      Rsquared   MAE    \n",
              "  34.97206  0.9206859  26.5443\n",
              "\n",
              "Tuning parameter 'n.trees' was held constant at a value of 250\n",
              "Tuning\n",
              "\n",
              "Tuning parameter 'shrinkage' was held constant at a value of 0.1\n",
              "\n",
              "Tuning parameter 'n.minobsinnode' was held constant at a value of 20\n"
            ]
          },
          "metadata": {
            "tags": []
          }
        }
      ]
    },
    {
      "cell_type": "markdown",
      "metadata": {
        "id": "qTxZC2Xzt1bg",
        "colab_type": "text"
      },
      "source": [
        "**Testing Gradient Boosting Trees model on testSet11**"
      ]
    },
    {
      "cell_type": "code",
      "metadata": {
        "id": "Jp0wjjk_t2G4",
        "colab_type": "code",
        "colab": {
          "base_uri": "https://localhost:8080/",
          "height": 52
        },
        "outputId": "4bec4635-a42b-488c-e46e-1d48966a36b1"
      },
      "source": [
        "%%R\n",
        "GB_Pred_longitude <- predict(GB_fit_longitude, newdata = testSet11)\n",
        "postResample(GB_Pred_longitude, testSet11$LONGITUDE)"
      ],
      "execution_count": 109,
      "outputs": [
        {
          "output_type": "display_data",
          "data": {
            "text/plain": [
              "      RMSE   Rsquared        MAE \n",
              "33.7746467  0.9259571 25.3327056 \n"
            ]
          },
          "metadata": {
            "tags": []
          }
        }
      ]
    },
    {
      "cell_type": "markdown",
      "metadata": {
        "id": "eUzuuyoCuQUL",
        "colab_type": "text"
      },
      "source": [
        "**Testing Gradient Boosting Trees model on validData_longitude**"
      ]
    },
    {
      "cell_type": "code",
      "metadata": {
        "id": "Gr42qeXQuRKV",
        "colab_type": "code",
        "colab": {
          "base_uri": "https://localhost:8080/",
          "height": 52
        },
        "outputId": "1a01a614-ec6b-4770-d969-7191b7d5765e"
      },
      "source": [
        "%%R\n",
        "GB_Pred_longitude_val <- predict(GB_fit_longitude, newdata = validData_longitude)\n",
        "postResample(GB_Pred_longitude_val, validData_longitude$LONGITUDE)"
      ],
      "execution_count": 110,
      "outputs": [
        {
          "output_type": "display_data",
          "data": {
            "text/plain": [
              "      RMSE   Rsquared        MAE \n",
              "48.7743665  0.8390084 37.1424232 \n"
            ]
          },
          "metadata": {
            "tags": []
          }
        }
      ]
    },
    {
      "cell_type": "markdown",
      "metadata": {
        "id": "9G6pLuhxugGI",
        "colab_type": "text"
      },
      "source": [
        "###Gradient Boosting Trees Model on LATITUDE"
      ]
    },
    {
      "cell_type": "code",
      "metadata": {
        "id": "HAy3Hgw4uioK",
        "colab_type": "code",
        "colab": {}
      },
      "source": [
        "%%R\n",
        "set.seed(123)\n",
        "trainData12 <- createDataPartition(y = trainData_latitude$LATITUDE, p = 0.75, list = FALSE)\n",
        "trainSet12 <- trainData_latitude [trainData12,]\n",
        "testSet12 <- trainData_latitude [-trainData12,]"
      ],
      "execution_count": 0,
      "outputs": []
    },
    {
      "cell_type": "markdown",
      "metadata": {
        "id": "W-ow5Lrwu5jk",
        "colab_type": "text"
      },
      "source": [
        "**Fit Control / Cross Validation / Gradient Boosting Trees model**"
      ]
    },
    {
      "cell_type": "code",
      "metadata": {
        "id": "Q4nZQwNgu6a-",
        "colab_type": "code",
        "colab": {
          "base_uri": "https://localhost:8080/",
          "height": 1000
        },
        "outputId": "9a0c7264-155d-4868-fe64-686d547ad93a"
      },
      "source": [
        "%%R\n",
        "fitControl <- trainControl(method = \"repeatedcv\", number = 5, repeats = 1)\n",
        "myGrid <- expand.grid(n.trees = c(250), \n",
        "                      interaction.depth = 1, \n",
        "                      shrinkage = c(0.1),\n",
        "                      n.minobsinnode = 20)\n",
        "\n",
        "GB_fit_latitude <- train((LATITUDE ~ .), \n",
        "                         data = trainSet12, \n",
        "                         method = \"gbm\",\n",
        "                         trControl = fitControl,\n",
        "                         tuneGrid = myGrid)\n",
        "GB_fit_latitude"
      ],
      "execution_count": 113,
      "outputs": [
        {
          "output_type": "display_data",
          "data": {
            "text/plain": [
              "Iter   TrainDeviance   ValidDeviance   StepSize   Improve\n",
              "     1     4172.2270            -nan     0.1000  275.0199\n",
              "     2     3938.6992            -nan     0.1000  226.1654\n",
              "     3     3708.6361            -nan     0.1000  228.2825\n",
              "     4     3508.9304            -nan     0.1000  195.9721\n",
              "     5     3331.3062            -nan     0.1000  177.0088\n",
              "     6     3180.6881            -nan     0.1000  150.9164\n",
              "     7     3036.9072            -nan     0.1000  142.3247\n",
              "     8     2907.4945            -nan     0.1000  126.3407\n",
              "     9     2786.7088            -nan     0.1000  118.7196\n",
              "    10     2682.9830            -nan     0.1000  101.0329\n",
              "    20     1966.3617            -nan     0.1000   52.2231\n",
              "    40     1297.0355            -nan     0.1000   19.6202\n",
              "    60      986.8631            -nan     0.1000   11.0394\n",
              "    80      811.5594            -nan     0.1000    7.0271\n",
              "   100      698.6480            -nan     0.1000    4.7717\n",
              "   120      623.7218            -nan     0.1000    2.8191\n",
              "   140      573.1952            -nan     0.1000    2.3226\n",
              "   160      537.4507            -nan     0.1000    1.4370\n",
              "   180      511.0646            -nan     0.1000    0.9514\n",
              "   200      490.8085            -nan     0.1000    0.6728\n",
              "   220      474.3296            -nan     0.1000    0.3855\n",
              "   240      460.4300            -nan     0.1000    0.4114\n",
              "   250      454.1045            -nan     0.1000    0.2908\n",
              "\n",
              "Iter   TrainDeviance   ValidDeviance   StepSize   Improve\n",
              "     1     4173.5632            -nan     0.1000  265.3595\n",
              "     2     3937.1760            -nan     0.1000  235.9709\n",
              "     3     3706.9222            -nan     0.1000  226.5303\n",
              "     4     3515.0100            -nan     0.1000  191.4371\n",
              "     5     3340.0234            -nan     0.1000  176.4341\n",
              "     6     3192.5153            -nan     0.1000  145.9297\n",
              "     7     3046.1039            -nan     0.1000  145.7661\n",
              "     8     2924.1388            -nan     0.1000  119.3690\n",
              "     9     2799.7520            -nan     0.1000  124.1293\n",
              "    10     2697.5898            -nan     0.1000  100.8263\n",
              "    20     1982.3828            -nan     0.1000   50.3690\n",
              "    40     1315.5346            -nan     0.1000   21.6843\n",
              "    60     1000.9515            -nan     0.1000   10.0883\n",
              "    80      823.5670            -nan     0.1000    6.1598\n",
              "   100      710.1811            -nan     0.1000    4.3860\n",
              "   120      634.0916            -nan     0.1000    2.8851\n",
              "   140      581.8683            -nan     0.1000    1.7049\n",
              "   160      545.3082            -nan     0.1000    1.3959\n",
              "   180      518.8698            -nan     0.1000    1.0355\n",
              "   200      498.3769            -nan     0.1000    0.8457\n",
              "   220      480.9165            -nan     0.1000    0.6409\n",
              "   240      466.3569            -nan     0.1000    0.2426\n",
              "   250      459.4108            -nan     0.1000    0.4668\n",
              "\n",
              "Iter   TrainDeviance   ValidDeviance   StepSize   Improve\n",
              "     1     4184.6885            -nan     0.1000  273.7211\n",
              "     2     3938.7039            -nan     0.1000  244.1574\n",
              "     3     3710.4710            -nan     0.1000  228.2656\n",
              "     4     3518.3571            -nan     0.1000  191.0660\n",
              "     5     3336.8458            -nan     0.1000  183.2681\n",
              "     6     3182.0058            -nan     0.1000  154.2493\n",
              "     7     3038.0100            -nan     0.1000  142.3062\n",
              "     8     2908.7568            -nan     0.1000  128.5156\n",
              "     9     2790.9839            -nan     0.1000  114.5780\n",
              "    10     2687.4306            -nan     0.1000  105.4148\n",
              "    20     1974.8691            -nan     0.1000   50.3770\n",
              "    40     1311.7743            -nan     0.1000   21.5738\n",
              "    60     1003.3095            -nan     0.1000   10.0916\n",
              "    80      825.4395            -nan     0.1000    6.9349\n",
              "   100      709.6675            -nan     0.1000    4.0419\n",
              "   120      632.5561            -nan     0.1000    2.8833\n",
              "   140      578.7107            -nan     0.1000    1.8615\n",
              "   160      541.4686            -nan     0.1000    1.5189\n",
              "   180      514.1276            -nan     0.1000    0.7048\n",
              "   200      493.8521            -nan     0.1000    0.5695\n",
              "   220      477.3167            -nan     0.1000    0.5918\n",
              "   240      463.0059            -nan     0.1000    0.4594\n",
              "   250      456.7113            -nan     0.1000    0.4711\n",
              "\n",
              "Iter   TrainDeviance   ValidDeviance   StepSize   Improve\n",
              "     1     4171.4693            -nan     0.1000  276.9935\n",
              "     2     3932.3562            -nan     0.1000  237.5192\n",
              "     3     3705.3873            -nan     0.1000  222.8243\n",
              "     4     3517.3467            -nan     0.1000  182.2394\n",
              "     5     3339.1627            -nan     0.1000  176.7487\n",
              "     6     3182.3556            -nan     0.1000  156.9234\n",
              "     7     3039.3452            -nan     0.1000  143.5243\n",
              "     8     2916.3061            -nan     0.1000  121.1685\n",
              "     9     2792.3164            -nan     0.1000  121.5734\n",
              "    10     2690.7993            -nan     0.1000  102.5875\n",
              "    20     1982.7961            -nan     0.1000   49.5685\n",
              "    40     1304.4507            -nan     0.1000   20.9417\n",
              "    60      994.9489            -nan     0.1000   10.8770\n",
              "    80      816.3290            -nan     0.1000    6.0048\n",
              "   100      703.5700            -nan     0.1000    4.3586\n",
              "   120      627.7657            -nan     0.1000    2.8791\n",
              "   140      576.6002            -nan     0.1000    2.0707\n",
              "   160      540.2898            -nan     0.1000    1.3608\n",
              "   180      513.7625            -nan     0.1000    0.8618\n",
              "   200      493.8397            -nan     0.1000    0.8524\n",
              "   220      477.6907            -nan     0.1000    0.5367\n",
              "   240      463.5234            -nan     0.1000    0.5274\n",
              "   250      456.7989            -nan     0.1000    0.5622\n",
              "\n",
              "Iter   TrainDeviance   ValidDeviance   StepSize   Improve\n",
              "     1     4184.5843            -nan     0.1000  276.1032\n",
              "     2     3946.4514            -nan     0.1000  242.7447\n",
              "     3     3719.1727            -nan     0.1000  216.2107\n",
              "     4     3528.2816            -nan     0.1000  186.6141\n",
              "     5     3345.4798            -nan     0.1000  178.9006\n",
              "     6     3191.3850            -nan     0.1000  153.2514\n",
              "     7     3049.2492            -nan     0.1000  144.4757\n",
              "     8     2919.3146            -nan     0.1000  127.1341\n",
              "     9     2802.6723            -nan     0.1000  112.1579\n",
              "    10     2697.8736            -nan     0.1000  102.5709\n",
              "    20     1975.8233            -nan     0.1000   51.9470\n",
              "    40     1308.0722            -nan     0.1000   22.3894\n",
              "    60      993.8590            -nan     0.1000   10.7281\n",
              "    80      819.0874            -nan     0.1000    6.7703\n",
              "   100      704.5123            -nan     0.1000    4.9939\n",
              "   120      628.4122            -nan     0.1000    3.0399\n",
              "   140      576.5206            -nan     0.1000    2.0305\n",
              "   160      539.6273            -nan     0.1000    1.2615\n",
              "   180      512.6958            -nan     0.1000    1.0375\n",
              "   200      492.0303            -nan     0.1000    0.6565\n",
              "   220      475.3515            -nan     0.1000    0.5980\n",
              "   240      461.2460            -nan     0.1000    0.4937\n",
              "   250      454.8819            -nan     0.1000    0.3056\n",
              "\n",
              "Iter   TrainDeviance   ValidDeviance   StepSize   Improve\n",
              "     1     4179.7735            -nan     0.1000  273.3975\n",
              "     2     3937.4479            -nan     0.1000  242.6152\n",
              "     3     3708.4380            -nan     0.1000  232.5128\n",
              "     4     3517.0081            -nan     0.1000  191.9590\n",
              "     5     3337.4132            -nan     0.1000  181.9968\n",
              "     6     3181.9270            -nan     0.1000  151.2048\n",
              "     7     3042.0283            -nan     0.1000  141.3754\n",
              "     8     2911.4894            -nan     0.1000  128.6688\n",
              "     9     2793.7180            -nan     0.1000  119.0048\n",
              "    10     2692.1658            -nan     0.1000  101.4146\n",
              "    20     1978.0686            -nan     0.1000   53.3376\n",
              "    40     1309.2503            -nan     0.1000   19.9027\n",
              "    60      997.8601            -nan     0.1000    9.9626\n",
              "    80      821.7848            -nan     0.1000    7.1455\n",
              "   100      707.7431            -nan     0.1000    4.3741\n",
              "   120      630.1954            -nan     0.1000    3.2992\n",
              "   140      578.6361            -nan     0.1000    2.2741\n",
              "   160      541.7362            -nan     0.1000    1.4304\n",
              "   180      514.6222            -nan     0.1000    0.8740\n",
              "   200      494.4893            -nan     0.1000    0.6310\n",
              "   220      478.2390            -nan     0.1000    0.6818\n",
              "   240      464.1532            -nan     0.1000    0.4902\n",
              "   250      458.0941            -nan     0.1000    0.3641\n",
              "\n",
              "Stochastic Gradient Boosting \n",
              "\n",
              "14953 samples\n",
              "  520 predictor\n",
              "\n",
              "No pre-processing\n",
              "Resampling: Cross-Validated (5 fold, repeated 1 times) \n",
              "Summary of sample sizes: 11963, 11962, 11964, 11962, 11961 \n",
              "Resampling results:\n",
              "\n",
              "  RMSE      Rsquared   MAE     \n",
              "  21.61032  0.8957294  16.50205\n",
              "\n",
              "Tuning parameter 'n.trees' was held constant at a value of 250\n",
              "Tuning\n",
              "\n",
              "Tuning parameter 'shrinkage' was held constant at a value of 0.1\n",
              "\n",
              "Tuning parameter 'n.minobsinnode' was held constant at a value of 20\n"
            ]
          },
          "metadata": {
            "tags": []
          }
        }
      ]
    },
    {
      "cell_type": "markdown",
      "metadata": {
        "id": "5bLnJNY1vfRa",
        "colab_type": "text"
      },
      "source": [
        "**Testing Gradient Boosting Trees model on testSet12**"
      ]
    },
    {
      "cell_type": "code",
      "metadata": {
        "id": "7VNR1j1hvgE6",
        "colab_type": "code",
        "colab": {
          "base_uri": "https://localhost:8080/",
          "height": 52
        },
        "outputId": "939284ca-2704-4987-dead-14933bc1d0cb"
      },
      "source": [
        "%%R\n",
        "GB_Pred_latitude <- predict(GB_fit_latitude, newdata = testSet12)\n",
        "postResample(GB_Pred_latitude, testSet12$LATITUDE)"
      ],
      "execution_count": 114,
      "outputs": [
        {
          "output_type": "display_data",
          "data": {
            "text/plain": [
              "      RMSE   Rsquared        MAE \n",
              "21.4669102  0.8990149 16.4030607 \n"
            ]
          },
          "metadata": {
            "tags": []
          }
        }
      ]
    },
    {
      "cell_type": "markdown",
      "metadata": {
        "id": "nR9R4q-WvjXr",
        "colab_type": "text"
      },
      "source": [
        "**Testing Gradient Boosting Trees model on validData_latitude**"
      ]
    },
    {
      "cell_type": "code",
      "metadata": {
        "id": "nLa_6rtQvj-z",
        "colab_type": "code",
        "colab": {
          "base_uri": "https://localhost:8080/",
          "height": 52
        },
        "outputId": "bade82b6-3576-4ba5-f60b-259431fe9bdf"
      },
      "source": [
        "%%R\n",
        "GB_Pred_latitude_val <- predict(GB_fit_latitude, newdata = validData_latitude)\n",
        "postResample(GB_Pred_latitude_val, validData_latitude$LATITUDE)"
      ],
      "execution_count": 115,
      "outputs": [
        {
          "output_type": "display_data",
          "data": {
            "text/plain": [
              "     RMSE  Rsquared       MAE \n",
              "29.634597  0.828153 21.996729 \n"
            ]
          },
          "metadata": {
            "tags": []
          }
        }
      ]
    },
    {
      "cell_type": "markdown",
      "metadata": {
        "id": "lkljFoMswORH",
        "colab_type": "text"
      },
      "source": [
        "###Error Analysis based on Longitude & Latitude"
      ]
    },
    {
      "cell_type": "markdown",
      "metadata": {
        "id": "K3xaYCCswRuy",
        "colab_type": "text"
      },
      "source": [
        "**Detecting how far in meter are the predicted location from the original location**"
      ]
    },
    {
      "cell_type": "code",
      "metadata": {
        "id": "HsHp71l4wgq2",
        "colab_type": "code",
        "colab": {
          "base_uri": "https://localhost:8080/",
          "height": 34
        },
        "outputId": "ae24fb37-0aba-4949-e577-0e55dca9fac8"
      },
      "source": [
        "%%R\n",
        "hypotenuse(6.1935, 5.7587)"
      ],
      "execution_count": 116,
      "outputs": [
        {
          "output_type": "display_data",
          "data": {
            "text/plain": [
              "[1] 8.457072\n"
            ]
          },
          "metadata": {
            "tags": []
          }
        }
      ]
    },
    {
      "cell_type": "markdown",
      "metadata": {
        "id": "23SOAgEnxICd",
        "colab_type": "text"
      },
      "source": [
        "###Combining training data with prediction data"
      ]
    },
    {
      "cell_type": "code",
      "metadata": {
        "id": "zENGgBI_xJk-",
        "colab_type": "code",
        "colab": {
          "base_uri": "https://localhost:8080/",
          "height": 69
        },
        "outputId": "aaafbe7a-e130-4e67-8b37-13371bea2f59"
      },
      "source": [
        "%%R\n",
        "trainData_3_variables = dataTraining\n",
        "trainData_3_variables <- trainData_3_variables[, -c(1:465)]\n",
        "trainData_3_variables <- trainData_3_variables[, -c(4:9)]\n",
        "\n",
        "trainData_3_variables$FLOOR <- dataTraining$FLOOR\n",
        "trainData_3_variables$LONGITUDE <- dataTraining$LONGITUDE\n",
        "trainData_3_variables$LATITUDE <- dataTraining$LATITUDE\n",
        "trainData_3_variables$ORIGIN = \"Training Data\"\n",
        "\n",
        "validData_3_variables = dataValidation\n",
        "validData_3_variables <- validData_3_variables[, -c(1:520)]\n",
        "validData_3_variables <- validData_3_variables[, -c(4:9)]\n",
        "\n",
        "validData_3_variables$FLOOR <- knn_Pred_floor_val\n",
        "validData_3_variables$LONGITUDE <- knn_Pred_longitude_val\n",
        "validData_3_variables$LATITUDE <- knn_Pred_latitude_val\n",
        "validData_3_variables$ORIGIN = \"Prediction Data\"\n",
        "\n",
        "bind_data <- rbind(trainData_3_variables, validData_3_variables)\n",
        "bind_data <- dplyr::select(bind_data, FLOOR, LONGITUDE, LATITUDE, ORIGIN)\n",
        "bind_data$ORIGIN <- as.factor(bind_data$ORIGIN)"
      ],
      "execution_count": 119,
      "outputs": [
        {
          "output_type": "stream",
          "text": [
            "\n",
            "Error in rbind(deparse.level, ...) : \n",
            "  numbers of columns of arguments do not match\n"
          ],
          "name": "stdout"
        }
      ]
    },
    {
      "cell_type": "markdown",
      "metadata": {
        "id": "ssctrZF2yvmw",
        "colab_type": "text"
      },
      "source": [
        "###Visualization of oocation of Observations (original data & prediction data)"
      ]
    },
    {
      "cell_type": "markdown",
      "metadata": {
        "id": "9W16IRmmyys2",
        "colab_type": "text"
      },
      "source": [
        "**Location of training data**"
      ]
    },
    {
      "cell_type": "code",
      "metadata": {
        "id": "dnjEGukQyzZf",
        "colab_type": "code",
        "colab": {
          "base_uri": "https://localhost:8080/",
          "height": 497
        },
        "outputId": "1a46f24a-fd7e-46c3-d620-0b73069508ae"
      },
      "source": [
        "%%R\n",
        "ggplot() +\n",
        "  geom_point(data = dataTraining,\n",
        "             aes(x = LONGITUDE,\n",
        "                 y = LATITUDE,\n",
        "                 color = \"Training Data Observations\")) +\n",
        "  ggtitle(\"Locations of Observations\") + theme_tufte() + \n",
        "  theme(text = element_text(size=20))"
      ],
      "execution_count": 120,
      "outputs": [
        {
          "output_type": "display_data",
          "data": {
            "image/png": "[encoded data removed]"
          },
          "metadata": {
            "tags": []
          }
        }
      ]
    },
    {
      "cell_type": "markdown",
      "metadata": {
        "id": "4L4M3b4Ny5WY",
        "colab_type": "text"
      },
      "source": [
        "**location of validation data**"
      ]
    },
    {
      "cell_type": "code",
      "metadata": {
        "id": "GweusecOy6Vn",
        "colab_type": "code",
        "colab": {
          "base_uri": "https://localhost:8080/",
          "height": 497
        },
        "outputId": "67806696-f738-4aea-bdcc-fd8c5abc7d4f"
      },
      "source": [
        "%%R\n",
        "ggplot() +\n",
        "  geom_point(data = dataValidation,\n",
        "             aes(x = knn_Pred_longitude_val,\n",
        "                 y = knn_Pred_latitude_val,\n",
        "                 color = \"Prediction\")) +\n",
        "  ggtitle(\"Locations of Observations\") + theme_tufte() + theme(text = element_text(size=20))"
      ],
      "execution_count": 121,
      "outputs": [
        {
          "output_type": "display_data",
          "data": {
            "image/png": "[encoded data removed]"
          },
          "metadata": {
            "tags": []
          }
        }
      ]
    },
    {
      "cell_type": "markdown",
      "metadata": {
        "id": "G0DIPQsJzAFI",
        "colab_type": "text"
      },
      "source": [
        "**location of both datasets**"
      ]
    },
    {
      "cell_type": "code",
      "metadata": {
        "id": "scYgKv3_zA3C",
        "colab_type": "code",
        "colab": {
          "base_uri": "https://localhost:8080/",
          "height": 497
        },
        "outputId": "19fd072a-c032-443d-8a62-6eb439eb744e"
      },
      "source": [
        "%%R\n",
        "ggplot() +\n",
        "  geom_point(data = dataTraining, aes(x = LONGITUDE, y = LATITUDE, colour = \"Training data\")) +\n",
        "  geom_point(\n",
        "    data = dataValidation,\n",
        "    aes(x = knn_Pred_longitude_val, y = knn_Pred_latitude_val, colour = \"Predicted data\")) +\n",
        "    ggtitle(\"Locations of Observations of Training and Prediction datasets\") + \n",
        "  theme_tufte() + \n",
        "  theme(text = element_text(size = 20))"
      ],
      "execution_count": 122,
      "outputs": [
        {
          "output_type": "display_data",
          "data": {
            "image/png": "[encoded data removed]"
          },
          "metadata": {
            "tags": []
          }
        }
      ]
    },
    {
      "cell_type": "markdown",
      "metadata": {
        "id": "3lOdNzAizWy4",
        "colab_type": "text"
      },
      "source": [
        "###3D plot of training data and predicted data"
      ]
    },
    {
      "cell_type": "code",
      "metadata": {
        "id": "DOZGdIfjzYKj",
        "colab_type": "code",
        "colab": {
          "base_uri": "https://localhost:8080/",
          "height": 52
        },
        "outputId": "4055fc99-493a-4db5-bd7c-3aa374e5bff3"
      },
      "source": [
        "%%R\n",
        "plotly::plot_ly(\n",
        "  bind_data,\n",
        "  x = ~ LONGITUDE,\n",
        "  y = ~ LATITUDE,\n",
        "  z = ~ FLOOR,\n",
        "  type = \"scatter3d\",\n",
        "  mode = \"markers\",\n",
        "  color = ~ ORIGIN) %>%\n",
        "  layout(title=\"3D Plot Comparing Training Data with Predicted Data\",\n",
        "         font=t)"
      ],
      "execution_count": 123,
      "outputs": [
        {
          "output_type": "stream",
          "text": [
            "\n",
            "Error in is.data.frame(data) : object 'bind_data' not found\n"
          ],
          "name": "stdout"
        }
      ]
    }
  ]
}