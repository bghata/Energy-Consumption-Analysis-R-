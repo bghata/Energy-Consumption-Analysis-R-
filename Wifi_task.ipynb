{
  "nbformat": 4,
  "nbformat_minor": 0,
  "metadata": {
    "colab": {
      "name": "Wifi_task.ipynb",
      "version": "0.3.2",
      "provenance": [],
      "collapsed_sections": [],
      "include_colab_link": true
    },
    "kernelspec": {
      "name": "python3",
      "display_name": "Python 3"
    }
  },
  "cells": [
    {
      "cell_type": "markdown",
      "metadata": {
        "id": "view-in-github",
        "colab_type": "text"
      },
      "source": [
        "<a href=\"https://colab.research.google.com/github/bghata/Energy-Consumption-Analysis-R-/blob/master/Wifi_task.ipynb\" target=\"_parent\"><img src=\"https://colab.research.google.com/assets/colab-badge.svg\" alt=\"Open In Colab\"/></a>"
      ]
    },
    {
      "cell_type": "code",
      "metadata": {
        "id": "yD2TCc154QzT",
        "colab_type": "code",
        "colab": {}
      },
      "source": [
        "%reload_ext rpy2.ipython\n",
        "\n",
        "import warnings\n",
        "warnings.filterwarnings('ignore')"
      ],
      "execution_count": 0,
      "outputs": []
    },
    {
      "cell_type": "code",
      "metadata": {
        "id": "A62Q8DxB4YpH",
        "colab_type": "code",
        "colab": {}
      },
      "source": [
        "%%R\n",
        "install.packages(\"readr\")"
      ],
      "execution_count": 0,
      "outputs": []
    },
    {
      "cell_type": "code",
      "metadata": {
        "id": "TpkYn-174vPJ",
        "colab_type": "code",
        "colab": {}
      },
      "source": [
        "%%R\n",
        "library(readr)"
      ],
      "execution_count": 0,
      "outputs": []
    },
    {
      "cell_type": "markdown",
      "metadata": {
        "id": "eWvEe7HnxtET",
        "colab_type": "text"
      },
      "source": [
        "**Loading the libraries**"
      ]
    },
    {
      "cell_type": "code",
      "metadata": {
        "id": "-E8jknae494R",
        "colab_type": "code",
        "colab": {}
      },
      "source": [
        "%%R\n",
        "pacman::p_load(DBI, data.table, ggplot2, dplyr, \n",
        "               lattice, caret, plotly, lubridate,\n",
        "               zoo, forecast, ggfortify, stats, tufte, \n",
        "               ggthemes, rapportools, fpp2, fma, expsmooth,\n",
        "               gbm, scatterplot3d, reshape2, Hmisc, rio, \n",
        "               colorspace,grid, VIM, class, sp, spData, spdep, \n",
        "               randomForest, magrittr, Matrix, learningr)"
      ],
      "execution_count": 0,
      "outputs": []
    },
    {
      "cell_type": "code",
      "metadata": {
        "id": "HvW37Ewk5Gw_",
        "colab_type": "code",
        "colab": {}
      },
      "source": [
        "from google.colab import drive\n",
        "drive.mount('/content/gdrive')"
      ],
      "execution_count": 0,
      "outputs": []
    },
    {
      "cell_type": "markdown",
      "metadata": {
        "id": "BaWVJW7Jp6oR",
        "colab_type": "text"
      },
      "source": [
        "**Loading the data set**"
      ]
    },
    {
      "cell_type": "code",
      "metadata": {
        "id": "FkGmAGZ3DL6N",
        "colab_type": "code",
        "colab": {}
      },
      "source": [
        "%%R\n",
        "dataTraining = read_csv('/content/gdrive/My Drive/Colab Notebooks/Wifi_Data_Files/trainingData.csv')\n",
        "dataValidation = read_csv('/content/gdrive/My Drive/Colab Notebooks/Wifi_Data_Files/validationData.csv')"
      ],
      "execution_count": 0,
      "outputs": []
    },
    {
      "cell_type": "markdown",
      "metadata": {
        "id": "Wf1DCK0OzUFp",
        "colab_type": "text"
      },
      "source": [
        "**Replace na with -110 on dataTraining & dataValidation**"
      ]
    },
    {
      "cell_type": "code",
      "metadata": {
        "id": "FcjcfSh_zZ-k",
        "colab_type": "code",
        "colab": {}
      },
      "source": [
        "%%R\n",
        "dataTraining[is.na(dataTraining)] = -110\n",
        "dataValidation[is.na(dataValidation)] = -110"
      ],
      "execution_count": 0,
      "outputs": []
    },
    {
      "cell_type": "markdown",
      "metadata": {
        "id": "D0atzv1DzhJp",
        "colab_type": "text"
      },
      "source": [
        "**Detecting outliers**"
      ]
    },
    {
      "cell_type": "code",
      "metadata": {
        "id": "TcliFcUJzi2O",
        "colab_type": "code",
        "colab": {
          "base_uri": "https://localhost:8080/",
          "height": 497
        },
        "outputId": "ee212dd7-2e1f-471c-acbf-b74476c774ca"
      },
      "source": [
        "%%R\n",
        "plot( x = as.factor(rep(colnames(dataTraining)[1:520],nrow(dataTraining))), y = c(t(dataTraining[,1:520])))"
      ],
      "execution_count": 58,
      "outputs": [
        {
          "output_type": "display_data",
          "data": {
            "image/png": "[encoded data removed]"
          },
          "metadata": {
            "tags": []
          }
        }
      ]
    },
    {
      "cell_type": "markdown",
      "metadata": {
        "id": "L7X1iw4sz1cz",
        "colab_type": "text"
      },
      "source": [
        "**Replacing outliers between (0 and -40) with -50**"
      ]
    },
    {
      "cell_type": "code",
      "metadata": {
        "id": "V2H1Y6vNz22Z",
        "colab_type": "code",
        "colab": {}
      },
      "source": [
        "%%R\n",
        "for (i in c(1:nrow(dataTraining))) {\n",
        "  sapply(dataTraining[i, 1:520], function(x) {if (max(x) > -40)   replace(x, x > -40, -50)})\n",
        "}"
      ],
      "execution_count": 0,
      "outputs": []
    },
    {
      "cell_type": "markdown",
      "metadata": {
        "id": "wyi159HG0gM3",
        "colab_type": "text"
      },
      "source": [
        "**Converting data type from dataTraining & dataValidation**"
      ]
    },
    {
      "cell_type": "code",
      "metadata": {
        "id": "CczMJXRE0130",
        "colab_type": "code",
        "colab": {}
      },
      "source": [
        "%%R\n",
        "dataTraining$LONGITUDE <- as.numeric(dataTraining$LONGITUDE)\n",
        "dataTraining$LATITUDE <- as.numeric(dataTraining$LATITUDE)\n",
        "dataTraining$FLOOR <- as.factor(dataTraining$FLOOR)\n",
        "dataTraining$BUILDINGID <- as.factor(dataTraining$BUILDINGID)\n",
        "\n",
        "dataValidation$LONGITUDE <- as.numeric(dataValidation$LONGITUDE)\n",
        "dataValidation$LATITUDE <- as.numeric(dataValidation$LATITUDE)\n",
        "dataValidation$FLOOR <- as.factor(dataValidation$FLOOR)\n",
        "dataValidation$BUILDINGID <- as.factor(dataValidation$BUILDINGID)"
      ],
      "execution_count": 0,
      "outputs": []
    },
    {
      "cell_type": "markdown",
      "metadata": {
        "id": "poJvO-ig1Edf",
        "colab_type": "text"
      },
      "source": [
        "**Removing WAPs where na = 100 / from dataTraining**"
      ]
    },
    {
      "cell_type": "code",
      "metadata": {
        "id": "rL4sKSgK1FUK",
        "colab_type": "code",
        "colab": {}
      },
      "source": [
        "%%R\n",
        "dataTraining <- dataTraining[,colSums(is.na(dataTraining))<nrow(dataTraining)]\n",
        "dataTraining <- dataTraining[rowSums(is.na(dataTraining[ , -c(466:474)]))< (ncol(dataTraining) -9) , ]"
      ],
      "execution_count": 0,
      "outputs": []
    },
    {
      "cell_type": "markdown",
      "metadata": {
        "id": "N62biO2h1NHa",
        "colab_type": "text"
      },
      "source": [
        "**Adding 4 variables (BUILDINGID, FLOOR, LONGITUDE, LATITUDE) to 4 seperate datasets for easier analysis**"
      ]
    },
    {
      "cell_type": "markdown",
      "metadata": {
        "id": "O3XQxXLH1lGw",
        "colab_type": "text"
      },
      "source": [
        "**Removing non-related attributes, and creating training data with WAPs and BUILDINGID**"
      ]
    },
    {
      "cell_type": "code",
      "metadata": {
        "id": "uvnlrjbS1nhx",
        "colab_type": "code",
        "colab": {}
      },
      "source": [
        "%%R\n",
        "trainData_building = dataTraining\n",
        "trainData_building$FLOOR = NULL\n",
        "trainData_building$LONGITUDE = NULL\n",
        "trainData_building$LATITUDE = NULL\n",
        "trainData_building$PHONEID = NULL\n",
        "trainData_building$USERID = NULL\n",
        "trainData_building$RELATIVEPOSITION = NULL\n",
        "trainData_building$SPACEID = NULL\n",
        "trainData_building$TIMESTAMP = NULL\n",
        "\n",
        "validData_building = dataValidation\n",
        "validData_building$FLOOR = NULL\n",
        "validData_building$LONGITUDE = NULL\n",
        "validData_building$LATITUDE = NULL\n",
        "validData_building$PHONEID = NULL\n",
        "validData_building$USERID = NULL\n",
        "validData_building$RELATIVEPOSITION = NULL\n",
        "validData_building$SPACEID = NULL\n",
        "validData_building$TIMESTAMP = NULL\n",
        "\n",
        "new_valid_building <- validData_building[,match(colnames(trainData_building), colnames(validData_building))]"
      ],
      "execution_count": 0,
      "outputs": []
    },
    {
      "cell_type": "markdown",
      "metadata": {
        "id": "T6UQ_dH11v_O",
        "colab_type": "text"
      },
      "source": [
        "**Removing non-related attributes, and creating training data with WAPs and FLOOR**"
      ]
    },
    {
      "cell_type": "code",
      "metadata": {
        "id": "H0ISrrQt1zGR",
        "colab_type": "code",
        "colab": {}
      },
      "source": [
        "%%R\n",
        "trainData_floor = dataTraining\n",
        "trainData_floor$BUILDINGID = NULL\n",
        "trainData_floor$LONGITUDE = NULL\n",
        "trainData_floor$LATITUDE = NULL\n",
        "trainData_floor$PHONEID = NULL\n",
        "trainData_floor$USERID = NULL\n",
        "trainData_floor$RELATIVEPOSITION = NULL\n",
        "trainData_floor$SPACEID = NULL\n",
        "trainData_floor$TIMESTAMP = NULL\n",
        "\n",
        "validData_floor = dataValidation\n",
        "validData_floor$BUILDINGID = NULL\n",
        "validData_floor$LONGITUDE = NULL\n",
        "validData_floor$LATITUDE = NULL\n",
        "validData_floor$PHONEID = NULL\n",
        "validData_floor$USERID = NULL\n",
        "validData_floor$RELATIVEPOSITION = NULL\n",
        "validData_floor$SPACEID = NULL\n",
        "validData_floor$TIMESTAMP = NULL\n",
        "\n",
        "new_valid_floor <- validData_floor[,match(colnames(trainData_floor), colnames(validData_floor))]"
      ],
      "execution_count": 0,
      "outputs": []
    },
    {
      "cell_type": "markdown",
      "metadata": {
        "id": "v0Ppoaa415nn",
        "colab_type": "text"
      },
      "source": [
        "**Removing non-related attributes, and creating training data with WAPs and LONGITUDE**"
      ]
    },
    {
      "cell_type": "code",
      "metadata": {
        "id": "GfGQvChe16v0",
        "colab_type": "code",
        "colab": {}
      },
      "source": [
        "%%R\n",
        "trainData_longitude = dataTraining\n",
        "trainData_longitude$BUILDINGID = NULL\n",
        "trainData_longitude$FLOOR = NULL\n",
        "trainData_longitude$LATITUDE = NULL\n",
        "trainData_longitude$PHONEID = NULL\n",
        "trainData_longitude$USERID = NULL\n",
        "trainData_longitude$RELATIVEPOSITION = NULL\n",
        "trainData_longitude$SPACEID = NULL\n",
        "trainData_longitude$TIMESTAMP = NULL\n",
        "\n",
        "validData_longitude = dataValidation\n",
        "validData_longitude$BUILDINGID = NULL\n",
        "validData_longitude$FLOOR = NULL\n",
        "validData_longitude$LATITUDE = NULL\n",
        "validData_longitude$PHONEID = NULL\n",
        "validData_longitude$USERID = NULL\n",
        "validData_longitude$RELATIVEPOSITION = NULL\n",
        "validData_longitude$SPACEID = NULL\n",
        "validData_longitude$TIMESTAMP = NULL\n",
        "\n",
        "new_valid_longitude <- validData_longitude[,match(colnames(trainData_longitude), colnames(validData_longitude))]"
      ],
      "execution_count": 0,
      "outputs": []
    },
    {
      "cell_type": "markdown",
      "metadata": {
        "id": "RfcnCNRH2AI4",
        "colab_type": "text"
      },
      "source": [
        "**Removing non-related attributes, and creating training data with WAPs and LATITUDE**"
      ]
    },
    {
      "cell_type": "code",
      "metadata": {
        "id": "okoWdyux2Aug",
        "colab_type": "code",
        "colab": {}
      },
      "source": [
        "%%R\n",
        "trainData_latitude = dataTraining\n",
        "trainData_latitude$BUILDINGID = NULL\n",
        "trainData_latitude$FLOOR = NULL\n",
        "trainData_latitude$LONGITUDE = NULL\n",
        "trainData_latitude$PHONEID = NULL\n",
        "trainData_latitude$USERID = NULL\n",
        "trainData_latitude$RELATIVEPOSITION = NULL\n",
        "trainData_latitude$SPACEID = NULL\n",
        "trainData_latitude$TIMESTAMP = NULL\n",
        "\n",
        "validData_latitude = dataValidation\n",
        "validData_latitude$BUILDINGID = NULL\n",
        "validData_latitude$FLOOR = NULL\n",
        "validData_latitude$LONGITUDE = NULL\n",
        "validData_latitude$PHONEID = NULL\n",
        "validData_latitude$USERID = NULL\n",
        "validData_latitude$RELATIVEPOSITION = NULL\n",
        "validData_latitude$SPACEID = NULL\n",
        "validData_latitude$TIMESTAMP = NULL\n",
        "\n",
        "new_valid_latitude <- validData_latitude[,match(colnames(trainData_latitude), colnames(validData_latitude))]"
      ],
      "execution_count": 0,
      "outputs": []
    },
    {
      "cell_type": "markdown",
      "metadata": {
        "id": "gQos8zRs2JH1",
        "colab_type": "text"
      },
      "source": [
        "**Splitting data into trainSet & testSet for each round of running a new model**"
      ]
    },
    {
      "cell_type": "markdown",
      "metadata": {
        "id": "Z4_TsCtp2QPZ",
        "colab_type": "text"
      },
      "source": [
        "**K-NN Model on BUILDING**"
      ]
    },
    {
      "cell_type": "code",
      "metadata": {
        "id": "kezLboYu2Q1u",
        "colab_type": "code",
        "colab": {}
      },
      "source": [
        "%%R\n",
        "set.seed(123)\n",
        "trainData1 <- createDataPartition(y = trainData_building$BUILDINGID, p = 0.75, list = FALSE)\n",
        "trainSet1 <- trainData_building[trainData1,]\n",
        "testSet1 <- trainData_building[-trainData1,]"
      ],
      "execution_count": 0,
      "outputs": []
    },
    {
      "cell_type": "markdown",
      "metadata": {
        "id": "_FdKOSMw2WvX",
        "colab_type": "text"
      },
      "source": [
        "**Fit Control / Cross Validation / K-NN model**"
      ]
    },
    {
      "cell_type": "code",
      "metadata": {
        "id": "c_F7wcGt2Xdy",
        "colab_type": "code",
        "colab": {
          "base_uri": "https://localhost:8080/",
          "height": 278
        },
        "outputId": "9f5a8dfa-9f5e-4b1d-8486-feb1357abb60"
      },
      "source": [
        "%%R\n",
        "fitControl <- trainControl(method = \"repeatedcv\", number = 5, repeats = 1)\n",
        "knn_fit_building <- train((BUILDINGID ~ .), \n",
        "                          data = trainSet1, \n",
        "                          method = \"knn\", \n",
        "                          trControl = fitControl, \n",
        "                          tuneGrid = expand.grid(k = 5))\n",
        "knn_fit_building"
      ],
      "execution_count": 67,
      "outputs": [
        {
          "output_type": "display_data",
          "data": {
            "text/plain": [
              "k-Nearest Neighbors \n",
              "\n",
              "14953 samples\n",
              "  520 predictor\n",
              "    3 classes: '0', '1', '2' \n",
              "\n",
              "No pre-processing\n",
              "Resampling: Cross-Validated (5 fold, repeated 1 times) \n",
              "Summary of sample sizes: 11962, 11962, 11963, 11962, 11963 \n",
              "Resampling results:\n",
              "\n",
              "  Accuracy   Kappa   \n",
              "  0.9967231  0.994848\n",
              "\n",
              "Tuning parameter 'k' was held constant at a value of 5\n"
            ]
          },
          "metadata": {
            "tags": []
          }
        }
      ]
    },
    {
      "cell_type": "markdown",
      "metadata": {
        "id": "bDTv1avM8s3F",
        "colab_type": "text"
      },
      "source": [
        "**Testing k-NN model on testSet1**"
      ]
    },
    {
      "cell_type": "code",
      "metadata": {
        "id": "7XfpLWsY8tfP",
        "colab_type": "code",
        "colab": {
          "base_uri": "https://localhost:8080/",
          "height": 538
        },
        "outputId": "528a3b51-c1c0-4974-e664-a5d7f2265862"
      },
      "source": [
        "%%R\n",
        "knn_Pred_building <- predict(knn_fit_building, newdata = testSet1)\n",
        "knn_CM_building_tes <- confusionMatrix(knn_Pred_building, testSet1$BUILDINGID)\n",
        "knn_CM_building_tes"
      ],
      "execution_count": 68,
      "outputs": [
        {
          "output_type": "display_data",
          "data": {
            "text/plain": [
              "Confusion Matrix and Statistics\n",
              "\n",
              "          Reference\n",
              "Prediction    0    1    2\n",
              "         0 1309    0    0\n",
              "         1    3 1294    8\n",
              "         2    0    5 2365\n",
              "\n",
              "Overall Statistics\n",
              "                                          \n",
              "               Accuracy : 0.9968          \n",
              "                 95% CI : (0.9948, 0.9982)\n",
              "    No Information Rate : 0.4761          \n",
              "    P-Value [Acc > NIR] : < 2.2e-16       \n",
              "                                          \n",
              "                  Kappa : 0.995           \n",
              "                                          \n",
              " Mcnemar's Test P-Value : NA              \n",
              "\n",
              "Statistics by Class:\n",
              "\n",
              "                     Class: 0 Class: 1 Class: 2\n",
              "Sensitivity            0.9977   0.9962   0.9966\n",
              "Specificity            1.0000   0.9970   0.9981\n",
              "Pos Pred Value         1.0000   0.9916   0.9979\n",
              "Neg Pred Value         0.9992   0.9986   0.9969\n",
              "Prevalence             0.2632   0.2606   0.4761\n",
              "Detection Rate         0.2626   0.2596   0.4745\n",
              "Detection Prevalence   0.2626   0.2618   0.4755\n",
              "Balanced Accuracy      0.9989   0.9966   0.9974\n"
            ]
          },
          "metadata": {
            "tags": []
          }
        }
      ]
    },
    {
      "cell_type": "markdown",
      "metadata": {
        "id": "-B92sg0o-Cn8",
        "colab_type": "text"
      },
      "source": [
        "**Testing k-NN model on dataValidation**"
      ]
    },
    {
      "cell_type": "code",
      "metadata": {
        "id": "PcTH47SM-DQt",
        "colab_type": "code",
        "colab": {
          "base_uri": "https://localhost:8080/",
          "height": 538
        },
        "outputId": "d197da03-154b-412a-c48f-97a80dec2f8f"
      },
      "source": [
        "%%R\n",
        "knn_Pred_building_val <- predict(knn_fit_building, newdata = validData_building)\n",
        "knn_CM_building_val <- confusionMatrix(knn_Pred_building_val, validData_building$BUILDINGID)\n",
        "knn_CM_building_val"
      ],
      "execution_count": 69,
      "outputs": [
        {
          "output_type": "display_data",
          "data": {
            "text/plain": [
              "Confusion Matrix and Statistics\n",
              "\n",
              "          Reference\n",
              "Prediction   0   1   2\n",
              "         0 533   0   0\n",
              "         1   1 307   5\n",
              "         2   2   0 263\n",
              "\n",
              "Overall Statistics\n",
              "                                          \n",
              "               Accuracy : 0.9928          \n",
              "                 95% CI : (0.9859, 0.9969)\n",
              "    No Information Rate : 0.4824          \n",
              "    P-Value [Acc > NIR] : < 2e-16         \n",
              "                                          \n",
              "                  Kappa : 0.9886          \n",
              "                                          \n",
              " Mcnemar's Test P-Value : 0.04601         \n",
              "\n",
              "Statistics by Class:\n",
              "\n",
              "                     Class: 0 Class: 1 Class: 2\n",
              "Sensitivity            0.9944   1.0000   0.9813\n",
              "Specificity            1.0000   0.9925   0.9976\n",
              "Pos Pred Value         1.0000   0.9808   0.9925\n",
              "Neg Pred Value         0.9948   1.0000   0.9941\n",
              "Prevalence             0.4824   0.2763   0.2412\n",
              "Detection Rate         0.4797   0.2763   0.2367\n",
              "Detection Prevalence   0.4797   0.2817   0.2385\n",
              "Balanced Accuracy      0.9972   0.9963   0.9895\n"
            ]
          },
          "metadata": {
            "tags": []
          }
        }
      ]
    },
    {
      "cell_type": "markdown",
      "metadata": {
        "id": "GBiqfgSq-bbJ",
        "colab_type": "text"
      },
      "source": [
        "**k-NN Model on FLOOR**"
      ]
    },
    {
      "cell_type": "code",
      "metadata": {
        "id": "FJ3KPwhs-cDJ",
        "colab_type": "code",
        "colab": {}
      },
      "source": [
        "%%R\n",
        "set.seed(123)\n",
        "trainData2 <- createDataPartition(y = trainData_floor$FLOOR, p = 0.75, list = FALSE)\n",
        "trainSet2 <- trainData_floor [trainData2,]\n",
        "testSet2 <- trainData_floor [-trainData2,]"
      ],
      "execution_count": 0,
      "outputs": []
    },
    {
      "cell_type": "markdown",
      "metadata": {
        "id": "EYDZnbj5-iz1",
        "colab_type": "text"
      },
      "source": [
        "**Fit Control / Cross Validation / K-NN model**"
      ]
    },
    {
      "cell_type": "code",
      "metadata": {
        "id": "t-Gk0K9m-jje",
        "colab_type": "code",
        "colab": {
          "base_uri": "https://localhost:8080/",
          "height": 278
        },
        "outputId": "ce36d7ad-33e2-4bfa-b590-5abab26c753e"
      },
      "source": [
        "%%R\n",
        "fitControl <- trainControl(method = \"repeatedcv\", number = 5, repeats = 1)\n",
        "knn_fit_floor <- train((FLOOR ~ .), \n",
        "                       data = trainSet2, \n",
        "                       method = \"knn\", \n",
        "                       trControl = fitControl, \n",
        "                       tuneGrid = expand.grid(k = 5))\n",
        "knn_fit_floor"
      ],
      "execution_count": 71,
      "outputs": [
        {
          "output_type": "display_data",
          "data": {
            "text/plain": [
              "k-Nearest Neighbors \n",
              "\n",
              "14954 samples\n",
              "  520 predictor\n",
              "    5 classes: '0', '1', '2', '3', '4' \n",
              "\n",
              "No pre-processing\n",
              "Resampling: Cross-Validated (5 fold, repeated 1 times) \n",
              "Summary of sample sizes: 11962, 11965, 11963, 11962, 11964 \n",
              "Resampling results:\n",
              "\n",
              "  Accuracy  Kappa    \n",
              "  0.958607  0.9464401\n",
              "\n",
              "Tuning parameter 'k' was held constant at a value of 5\n"
            ]
          },
          "metadata": {
            "tags": []
          }
        }
      ]
    },
    {
      "cell_type": "markdown",
      "metadata": {
        "id": "66k3PDkiAqgK",
        "colab_type": "text"
      },
      "source": [
        "**Testing k-NN model on testSet2**"
      ]
    },
    {
      "cell_type": "code",
      "metadata": {
        "id": "TtbsCTZkArE6",
        "colab_type": "code",
        "colab": {
          "base_uri": "https://localhost:8080/",
          "height": 573
        },
        "outputId": "2825d851-b91e-4c5c-f3d5-09c79f143371"
      },
      "source": [
        "%%R\n",
        "knn_Pred_floor <- predict(knn_fit_floor, newdata = testSet2)\n",
        "knn_CM_floor_val <- confusionMatrix(knn_Pred_floor, testSet2$FLOOR)\n",
        "knn_CM_floor_val"
      ],
      "execution_count": 72,
      "outputs": [
        {
          "output_type": "display_data",
          "data": {
            "text/plain": [
              "Confusion Matrix and Statistics\n",
              "\n",
              "          Reference\n",
              "Prediction    0    1    2    3    4\n",
              "         0 1075   67    2    2    0\n",
              "         1    6 1169   20    1    0\n",
              "         2    1   12 1026   13    0\n",
              "         3   10    2   56 1246    0\n",
              "         4    0    0    0    0  275\n",
              "\n",
              "Overall Statistics\n",
              "                                          \n",
              "               Accuracy : 0.9615          \n",
              "                 95% CI : (0.9557, 0.9666)\n",
              "    No Information Rate : 0.2533          \n",
              "    P-Value [Acc > NIR] : < 2.2e-16       \n",
              "                                          \n",
              "                  Kappa : 0.9501          \n",
              "                                          \n",
              " Mcnemar's Test P-Value : NA              \n",
              "\n",
              "Statistics by Class:\n",
              "\n",
              "                     Class: 0 Class: 1 Class: 2 Class: 3 Class: 4\n",
              "Sensitivity            0.9844   0.9352   0.9293   0.9873  1.00000\n",
              "Specificity            0.9818   0.9928   0.9933   0.9817  1.00000\n",
              "Pos Pred Value         0.9380   0.9774   0.9753   0.9482  1.00000\n",
              "Neg Pred Value         0.9956   0.9786   0.9802   0.9956  1.00000\n",
              "Prevalence             0.2191   0.2509   0.2216   0.2533  0.05519\n",
              "Detection Rate         0.2157   0.2346   0.2059   0.2501  0.05519\n",
              "Detection Prevalence   0.2300   0.2400   0.2111   0.2637  0.05519\n",
              "Balanced Accuracy      0.9831   0.9640   0.9613   0.9845  1.00000\n"
            ]
          },
          "metadata": {
            "tags": []
          }
        }
      ]
    },
    {
      "cell_type": "markdown",
      "metadata": {
        "id": "xdiP7rWZCIs2",
        "colab_type": "text"
      },
      "source": [
        "**Testing k-NN model on validData_floor**"
      ]
    },
    {
      "cell_type": "code",
      "metadata": {
        "id": "Mzzf4Ju5CKBO",
        "colab_type": "code",
        "colab": {
          "base_uri": "https://localhost:8080/",
          "height": 573
        },
        "outputId": "364092a6-5c0d-4c31-e7d8-5ff8e10ad802"
      },
      "source": [
        "%%R\n",
        "knn_Pred_floor_val <- predict(knn_fit_floor, newdata = validData_floor)\n",
        "knn_CM_floor_val <- confusionMatrix(knn_Pred_floor_val, validData_floor$FLOOR)\n",
        "knn_CM_floor_val"
      ],
      "execution_count": 73,
      "outputs": [
        {
          "output_type": "display_data",
          "data": {
            "text/plain": [
              "Confusion Matrix and Statistics\n",
              "\n",
              "          Reference\n",
              "Prediction   0   1   2   3   4\n",
              "         0 116  68   8   4   2\n",
              "         1   8 324  13   0   0\n",
              "         2   6  59 202   7   0\n",
              "         3   2  11  83 159  15\n",
              "         4   0   0   0   2  22\n",
              "\n",
              "Overall Statistics\n",
              "                                          \n",
              "               Accuracy : 0.7408          \n",
              "                 95% CI : (0.7139, 0.7663)\n",
              "    No Information Rate : 0.4158          \n",
              "    P-Value [Acc > NIR] : < 2.2e-16       \n",
              "                                          \n",
              "                  Kappa : 0.6513          \n",
              "                                          \n",
              " Mcnemar's Test P-Value : NA              \n",
              "\n",
              "Statistics by Class:\n",
              "\n",
              "                     Class: 0 Class: 1 Class: 2 Class: 3 Class: 4\n",
              "Sensitivity            0.8788   0.7013   0.6601   0.9244   0.5641\n",
              "Specificity            0.9162   0.9676   0.9106   0.8818   0.9981\n",
              "Pos Pred Value         0.5859   0.9391   0.7372   0.5889   0.9167\n",
              "Neg Pred Value         0.9825   0.8198   0.8757   0.9845   0.9844\n",
              "Prevalence             0.1188   0.4158   0.2754   0.1548   0.0351\n",
              "Detection Rate         0.1044   0.2916   0.1818   0.1431   0.0198\n",
              "Detection Prevalence   0.1782   0.3105   0.2466   0.2430   0.0216\n",
              "Balanced Accuracy      0.8975   0.8345   0.7853   0.9031   0.7811\n"
            ]
          },
          "metadata": {
            "tags": []
          }
        }
      ]
    },
    {
      "cell_type": "markdown",
      "metadata": {
        "id": "Drhiu93uE1eS",
        "colab_type": "text"
      },
      "source": [
        "**k-NN Model on Longitude**"
      ]
    },
    {
      "cell_type": "code",
      "metadata": {
        "id": "fM0q66JqE2RZ",
        "colab_type": "code",
        "colab": {}
      },
      "source": [
        "%%R\n",
        "set.seed(123)\n",
        "trainData3 <- createDataPartition(y = trainData_longitude$LONGITUDE, p = 0.75, list = FALSE)\n",
        "trainSet3 <- trainData_longitude [trainData3,]\n",
        "testSet3 <- trainData_longitude [-trainData3,]"
      ],
      "execution_count": 0,
      "outputs": []
    },
    {
      "cell_type": "markdown",
      "metadata": {
        "id": "0_SiBORzE7fD",
        "colab_type": "text"
      },
      "source": [
        "**Fit Control / Cross Validation / K-NN model**"
      ]
    },
    {
      "cell_type": "code",
      "metadata": {
        "id": "jEYQWdjNE8FY",
        "colab_type": "code",
        "colab": {
          "base_uri": "https://localhost:8080/",
          "height": 260
        },
        "outputId": "0ce5dc02-44b4-40c7-dd22-e58dbb0d35ce"
      },
      "source": [
        "%%R\n",
        "fitControl <- trainControl(method = \"repeatedcv\", number = 5, repeats = 1)\n",
        "knn_fit_longitude <- train((LONGITUDE ~ .), \n",
        "                           data = trainSet3, \n",
        "                           method = \"knn\", \n",
        "                           trControl = fitControl, \n",
        "                           tuneGrid = expand.grid(k = 5))\n",
        "knn_fit_longitude"
      ],
      "execution_count": 75,
      "outputs": [
        {
          "output_type": "display_data",
          "data": {
            "text/plain": [
              "k-Nearest Neighbors \n",
              "\n",
              "14955 samples\n",
              "  520 predictor\n",
              "\n",
              "No pre-processing\n",
              "Resampling: Cross-Validated (5 fold, repeated 1 times) \n",
              "Summary of sample sizes: 11963, 11965, 11964, 11963, 11965 \n",
              "Resampling results:\n",
              "\n",
              "  RMSE     Rsquared   MAE     \n",
              "  10.9136  0.9920967  4.458733\n",
              "\n",
              "Tuning parameter 'k' was held constant at a value of 5\n"
            ]
          },
          "metadata": {
            "tags": []
          }
        }
      ]
    },
    {
      "cell_type": "markdown",
      "metadata": {
        "id": "EK2byWS0HLUx",
        "colab_type": "text"
      },
      "source": [
        "**Testing k-NN model on testSet3**"
      ]
    },
    {
      "cell_type": "code",
      "metadata": {
        "id": "GUkHBt3OHMSW",
        "colab_type": "code",
        "colab": {
          "base_uri": "https://localhost:8080/",
          "height": 52
        },
        "outputId": "653a4a1d-1091-4e33-ba3a-104e9e6dc8ea"
      },
      "source": [
        "%%R\n",
        "knn_Pred_longitude <- predict(knn_fit_longitude, newdata = testSet3)\n",
        "postResample(knn_Pred_longitude, testSet3$LONGITUDE)"
      ],
      "execution_count": 76,
      "outputs": [
        {
          "output_type": "display_data",
          "data": {
            "text/plain": [
              "     RMSE  Rsquared       MAE \n",
              "9.0799665 0.9945795 3.8540288 \n"
            ]
          },
          "metadata": {
            "tags": []
          }
        }
      ]
    },
    {
      "cell_type": "markdown",
      "metadata": {
        "id": "I-6A0GdQIP0a",
        "colab_type": "text"
      },
      "source": [
        "**Testing k-NN model on validData_longitude**"
      ]
    },
    {
      "cell_type": "code",
      "metadata": {
        "id": "y6OV8QqaIQkE",
        "colab_type": "code",
        "colab": {
          "base_uri": "https://localhost:8080/",
          "height": 52
        },
        "outputId": "ada96813-c306-4ef7-8212-2828129e83dc"
      },
      "source": [
        "%%R\n",
        "knn_Pred_longitude_val <- predict(knn_fit_longitude, newdata = validData_longitude)\n",
        "postResample(knn_Pred_longitude_val, validData_longitude$LONGITUDE)"
      ],
      "execution_count": 78,
      "outputs": [
        {
          "output_type": "display_data",
          "data": {
            "text/plain": [
              "      RMSE   Rsquared        MAE \n",
              "20.1294736  0.9720978 10.1879940 \n"
            ]
          },
          "metadata": {
            "tags": []
          }
        }
      ]
    },
    {
      "cell_type": "markdown",
      "metadata": {
        "id": "qH89ZpKVItmL",
        "colab_type": "text"
      },
      "source": [
        "**k-NN Model on Latitude**"
      ]
    },
    {
      "cell_type": "code",
      "metadata": {
        "id": "sBRpTdksIuUX",
        "colab_type": "code",
        "colab": {}
      },
      "source": [
        "%%R\n",
        "set.seed(123)\n",
        "trainData4 <- createDataPartition(y = trainData_latitude$LATITUDE, p = 0.75, list = FALSE)\n",
        "trainSet4 <- trainData_latitude [trainData4,]\n",
        "testSet4 <- trainData_latitude [-trainData4,]"
      ],
      "execution_count": 0,
      "outputs": []
    },
    {
      "cell_type": "markdown",
      "metadata": {
        "id": "cvSljY5uI0-g",
        "colab_type": "text"
      },
      "source": [
        "**Fit Control / Cross Validation / K-NN model**"
      ]
    },
    {
      "cell_type": "code",
      "metadata": {
        "id": "9P3X2NAPI5w-",
        "colab_type": "code",
        "colab": {
          "base_uri": "https://localhost:8080/",
          "height": 260
        },
        "outputId": "4ced466d-7f63-422e-81cc-b19278728b4a"
      },
      "source": [
        "%%R\n",
        "fitControl <- trainControl(method = \"repeatedcv\", number = 5, repeats = 1)\n",
        "knn_fit_latitude <- train((LATITUDE ~ .), \n",
        "                          data = trainSet4, \n",
        "                          method = \"knn\", \n",
        "                          trControl = fitControl, \n",
        "                          tuneGrid = expand.grid(k = 4))\n",
        "knn_fit_latitude"
      ],
      "execution_count": 80,
      "outputs": [
        {
          "output_type": "display_data",
          "data": {
            "text/plain": [
              "k-Nearest Neighbors \n",
              "\n",
              "14953 samples\n",
              "  520 predictor\n",
              "\n",
              "No pre-processing\n",
              "Resampling: Cross-Validated (5 fold, repeated 1 times) \n",
              "Summary of sample sizes: 11963, 11962, 11964, 11962, 11961 \n",
              "Resampling results:\n",
              "\n",
              "  RMSE     Rsquared   MAE     \n",
              "  7.06613  0.9887733  3.226847\n",
              "\n",
              "Tuning parameter 'k' was held constant at a value of 4\n"
            ]
          },
          "metadata": {
            "tags": []
          }
        }
      ]
    },
    {
      "cell_type": "markdown",
      "metadata": {
        "id": "2o9OBLZXMXo0",
        "colab_type": "text"
      },
      "source": [
        "**Testing k-NN model on testSet4**"
      ]
    },
    {
      "cell_type": "code",
      "metadata": {
        "id": "E2fibbDYMYO2",
        "colab_type": "code",
        "colab": {
          "base_uri": "https://localhost:8080/",
          "height": 52
        },
        "outputId": "bc46dccb-1841-4b88-a493-a720ca2b94c4"
      },
      "source": [
        "%%R\n",
        "knn_Pred_latitude <- predict(knn_fit_latitude, newdata = testSet4)\n",
        "postResample(knn_Pred_latitude, testSet4$LATITUDE)"
      ],
      "execution_count": 81,
      "outputs": [
        {
          "output_type": "display_data",
          "data": {
            "text/plain": [
              "     RMSE  Rsquared       MAE \n",
              "6.8364082 0.9897574 2.9754925 \n"
            ]
          },
          "metadata": {
            "tags": []
          }
        }
      ]
    },
    {
      "cell_type": "markdown",
      "metadata": {
        "id": "duoGRBcFNfkq",
        "colab_type": "text"
      },
      "source": [
        "**Testing k-NN model on validData_latitude**"
      ]
    },
    {
      "cell_type": "code",
      "metadata": {
        "id": "Uo1utdmeNgcF",
        "colab_type": "code",
        "colab": {
          "base_uri": "https://localhost:8080/",
          "height": 52
        },
        "outputId": "2e98fffa-e6a1-444a-d5af-de06a5055be4"
      },
      "source": [
        "%%R\n",
        "knn_Pred_latitude_val <- predict(knn_fit_latitude, newdata = validData_latitude)\n",
        "postResample(knn_Pred_latitude_val, validData_latitude$LATITUDE)"
      ],
      "execution_count": 82,
      "outputs": [
        {
          "output_type": "display_data",
          "data": {
            "text/plain": [
              "      RMSE   Rsquared        MAE \n",
              "16.2498909  0.9477929  8.7700491 \n"
            ]
          },
          "metadata": {
            "tags": []
          }
        }
      ]
    }
  ]
}